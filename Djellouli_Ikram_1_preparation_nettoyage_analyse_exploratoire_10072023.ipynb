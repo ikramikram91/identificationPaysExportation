{
 "cells": [
  {
   "cell_type": "code",
   "execution_count": 289,
   "metadata": {},
   "outputs": [],
   "source": [
    "import pandas as pd\n",
    "import numpy as np\n",
    "\n",
    "from sklearn.decomposition import PCA \n",
    "from sklearn.preprocessing import StandardScaler\n",
    "\n",
    "import matplotlib.pyplot as plt \n",
    "from matplotlib.collections import LineCollection\n",
    "\n",
    "import seaborn as sns \n",
    "import plotly.express as px\n",
    "\n",
    "from sklearn import datasets\n",
    "from sklearn.cluster import AgglomerativeClustering\n",
    "from sklearn import preprocessing\n",
    "from sklearn.metrics import confusion_matrix\n",
    "from sklearn.cluster import KMeans\n",
    "\n",
    "from scipy.cluster.hierarchy import dendrogram, linkage\n",
    "import plotly.graph_objects as go\n",
    "from sklearn.preprocessing import MinMaxScaler\n"
   ]
  },
  {
   "cell_type": "markdown",
   "metadata": {},
   "source": [
    "# Lecture des fichiers"
   ]
  },
  {
   "cell_type": "code",
   "execution_count": 290,
   "metadata": {},
   "outputs": [],
   "source": [
    "df_dispo_al = pd.read_csv(\"DisponibiliteAlimentaire_2017.csv\")\n",
    "df_pop = pd.read_csv(\"Population_2000_2018.csv\")\n",
    "df_stabPol = pd.read_csv('PoliticalStability_7-18-2023.csv')"
   ]
  },
  {
   "cell_type": "markdown",
   "metadata": {},
   "source": [
    "# Traitement des données "
   ]
  },
  {
   "cell_type": "markdown",
   "metadata": {},
   "source": [
    "## df_dispo_al"
   ]
  },
  {
   "cell_type": "code",
   "execution_count": 291,
   "metadata": {},
   "outputs": [],
   "source": [
    "df_dispo_al = df_dispo_al[df_dispo_al['Produit'] == 'Viande de Volailles']"
   ]
  },
  {
   "cell_type": "code",
   "execution_count": 292,
   "metadata": {},
   "outputs": [
    {
     "data": {
      "text/plain": [
       "array(['Viande de Volailles'], dtype=object)"
      ]
     },
     "execution_count": 292,
     "metadata": {},
     "output_type": "execute_result"
    }
   ],
   "source": [
    "df_dispo_al.Produit.unique()"
   ]
  },
  {
   "cell_type": "code",
   "execution_count": 293,
   "metadata": {},
   "outputs": [],
   "source": [
    "df_dispo_al = df_dispo_al[[\"Zone\",\"Élément\",\"Valeur\"]]"
   ]
  },
  {
   "cell_type": "code",
   "execution_count": 294,
   "metadata": {},
   "outputs": [
    {
     "data": {
      "text/html": [
       "<div>\n",
       "<style scoped>\n",
       "    .dataframe tbody tr th:only-of-type {\n",
       "        vertical-align: middle;\n",
       "    }\n",
       "\n",
       "    .dataframe tbody tr th {\n",
       "        vertical-align: top;\n",
       "    }\n",
       "\n",
       "    .dataframe thead th {\n",
       "        text-align: right;\n",
       "    }\n",
       "</style>\n",
       "<table border=\"1\" class=\"dataframe\">\n",
       "  <thead>\n",
       "    <tr style=\"text-align: right;\">\n",
       "      <th></th>\n",
       "      <th>Alimentation pour touristes</th>\n",
       "      <th>Aliments pour animaux</th>\n",
       "      <th>Autres utilisations (non alimentaire)</th>\n",
       "      <th>Disponibilité alimentaire (Kcal/personne/jour)</th>\n",
       "      <th>Disponibilité alimentaire en quantité (kg/personne/an)</th>\n",
       "      <th>Disponibilité de matière grasse en quantité (g/personne/jour)</th>\n",
       "      <th>Disponibilité de protéines en quantité (g/personne/jour)</th>\n",
       "      <th>Disponibilité intérieure</th>\n",
       "      <th>Exportations - Quantité</th>\n",
       "      <th>Importations - Quantité</th>\n",
       "      <th>Nourriture</th>\n",
       "      <th>Pertes</th>\n",
       "      <th>Production</th>\n",
       "      <th>Résidus</th>\n",
       "      <th>Semences</th>\n",
       "      <th>Traitement</th>\n",
       "      <th>Variation de stock</th>\n",
       "    </tr>\n",
       "    <tr>\n",
       "      <th>Zone</th>\n",
       "      <th></th>\n",
       "      <th></th>\n",
       "      <th></th>\n",
       "      <th></th>\n",
       "      <th></th>\n",
       "      <th></th>\n",
       "      <th></th>\n",
       "      <th></th>\n",
       "      <th></th>\n",
       "      <th></th>\n",
       "      <th></th>\n",
       "      <th></th>\n",
       "      <th></th>\n",
       "      <th></th>\n",
       "      <th></th>\n",
       "      <th></th>\n",
       "      <th></th>\n",
       "    </tr>\n",
       "  </thead>\n",
       "  <tbody>\n",
       "    <tr>\n",
       "      <th>Afrique du Sud</th>\n",
       "      <td>0.0</td>\n",
       "      <td>NaN</td>\n",
       "      <td>NaN</td>\n",
       "      <td>143.0</td>\n",
       "      <td>35.69</td>\n",
       "      <td>9.25</td>\n",
       "      <td>14.11</td>\n",
       "      <td>2118.0</td>\n",
       "      <td>63.0</td>\n",
       "      <td>514.0</td>\n",
       "      <td>2035.0</td>\n",
       "      <td>83.0</td>\n",
       "      <td>1667.0</td>\n",
       "      <td>0.0</td>\n",
       "      <td>NaN</td>\n",
       "      <td>NaN</td>\n",
       "      <td>-0.0</td>\n",
       "    </tr>\n",
       "    <tr>\n",
       "      <th>Algérie</th>\n",
       "      <td>0.0</td>\n",
       "      <td>NaN</td>\n",
       "      <td>NaN</td>\n",
       "      <td>22.0</td>\n",
       "      <td>6.38</td>\n",
       "      <td>1.50</td>\n",
       "      <td>1.97</td>\n",
       "      <td>277.0</td>\n",
       "      <td>0.0</td>\n",
       "      <td>2.0</td>\n",
       "      <td>264.0</td>\n",
       "      <td>13.0</td>\n",
       "      <td>275.0</td>\n",
       "      <td>0.0</td>\n",
       "      <td>NaN</td>\n",
       "      <td>NaN</td>\n",
       "      <td>0.0</td>\n",
       "    </tr>\n",
       "    <tr>\n",
       "      <th>Angola</th>\n",
       "      <td>0.0</td>\n",
       "      <td>NaN</td>\n",
       "      <td>NaN</td>\n",
       "      <td>35.0</td>\n",
       "      <td>10.56</td>\n",
       "      <td>2.22</td>\n",
       "      <td>3.60</td>\n",
       "      <td>319.0</td>\n",
       "      <td>0.0</td>\n",
       "      <td>277.0</td>\n",
       "      <td>315.0</td>\n",
       "      <td>2.0</td>\n",
       "      <td>42.0</td>\n",
       "      <td>0.0</td>\n",
       "      <td>NaN</td>\n",
       "      <td>2.0</td>\n",
       "      <td>-0.0</td>\n",
       "    </tr>\n",
       "    <tr>\n",
       "      <th>Antigua-et-Barbuda</th>\n",
       "      <td>2.0</td>\n",
       "      <td>NaN</td>\n",
       "      <td>0.0</td>\n",
       "      <td>233.0</td>\n",
       "      <td>54.10</td>\n",
       "      <td>17.55</td>\n",
       "      <td>17.77</td>\n",
       "      <td>7.0</td>\n",
       "      <td>0.0</td>\n",
       "      <td>7.0</td>\n",
       "      <td>5.0</td>\n",
       "      <td>NaN</td>\n",
       "      <td>0.0</td>\n",
       "      <td>0.0</td>\n",
       "      <td>NaN</td>\n",
       "      <td>NaN</td>\n",
       "      <td>0.0</td>\n",
       "    </tr>\n",
       "    <tr>\n",
       "      <th>Bahamas</th>\n",
       "      <td>0.0</td>\n",
       "      <td>NaN</td>\n",
       "      <td>9.0</td>\n",
       "      <td>182.0</td>\n",
       "      <td>43.17</td>\n",
       "      <td>13.33</td>\n",
       "      <td>14.61</td>\n",
       "      <td>26.0</td>\n",
       "      <td>NaN</td>\n",
       "      <td>24.0</td>\n",
       "      <td>16.0</td>\n",
       "      <td>NaN</td>\n",
       "      <td>6.0</td>\n",
       "      <td>0.0</td>\n",
       "      <td>NaN</td>\n",
       "      <td>NaN</td>\n",
       "      <td>4.0</td>\n",
       "    </tr>\n",
       "  </tbody>\n",
       "</table>\n",
       "</div>"
      ],
      "text/plain": [
       "                    Alimentation pour touristes  Aliments pour animaux  \\\n",
       "Zone                                                                     \n",
       "Afrique du Sud                              0.0                    NaN   \n",
       "Algérie                                     0.0                    NaN   \n",
       "Angola                                      0.0                    NaN   \n",
       "Antigua-et-Barbuda                          2.0                    NaN   \n",
       "Bahamas                                     0.0                    NaN   \n",
       "\n",
       "                    Autres utilisations (non alimentaire)  \\\n",
       "Zone                                                        \n",
       "Afrique du Sud                                        NaN   \n",
       "Algérie                                               NaN   \n",
       "Angola                                                NaN   \n",
       "Antigua-et-Barbuda                                    0.0   \n",
       "Bahamas                                               9.0   \n",
       "\n",
       "                    Disponibilité alimentaire (Kcal/personne/jour)  \\\n",
       "Zone                                                                 \n",
       "Afrique du Sud                                               143.0   \n",
       "Algérie                                                       22.0   \n",
       "Angola                                                        35.0   \n",
       "Antigua-et-Barbuda                                           233.0   \n",
       "Bahamas                                                      182.0   \n",
       "\n",
       "                    Disponibilité alimentaire en quantité (kg/personne/an)  \\\n",
       "Zone                                                                         \n",
       "Afrique du Sud                                                  35.69        \n",
       "Algérie                                                          6.38        \n",
       "Angola                                                          10.56        \n",
       "Antigua-et-Barbuda                                              54.10        \n",
       "Bahamas                                                         43.17        \n",
       "\n",
       "                    Disponibilité de matière grasse en quantité (g/personne/jour)  \\\n",
       "Zone                                                                                \n",
       "Afrique du Sud                                                   9.25               \n",
       "Algérie                                                          1.50               \n",
       "Angola                                                           2.22               \n",
       "Antigua-et-Barbuda                                              17.55               \n",
       "Bahamas                                                         13.33               \n",
       "\n",
       "                    Disponibilité de protéines en quantité (g/personne/jour)  \\\n",
       "Zone                                                                           \n",
       "Afrique du Sud                                                  14.11          \n",
       "Algérie                                                          1.97          \n",
       "Angola                                                           3.60          \n",
       "Antigua-et-Barbuda                                              17.77          \n",
       "Bahamas                                                         14.61          \n",
       "\n",
       "                    Disponibilité intérieure  Exportations - Quantité  \\\n",
       "Zone                                                                    \n",
       "Afrique du Sud                        2118.0                     63.0   \n",
       "Algérie                                277.0                      0.0   \n",
       "Angola                                 319.0                      0.0   \n",
       "Antigua-et-Barbuda                       7.0                      0.0   \n",
       "Bahamas                                 26.0                      NaN   \n",
       "\n",
       "                    Importations - Quantité  Nourriture  Pertes  Production  \\\n",
       "Zone                                                                          \n",
       "Afrique du Sud                        514.0      2035.0    83.0      1667.0   \n",
       "Algérie                                 2.0       264.0    13.0       275.0   \n",
       "Angola                                277.0       315.0     2.0        42.0   \n",
       "Antigua-et-Barbuda                      7.0         5.0     NaN         0.0   \n",
       "Bahamas                                24.0        16.0     NaN         6.0   \n",
       "\n",
       "                    Résidus  Semences  Traitement  Variation de stock  \n",
       "Zone                                                                   \n",
       "Afrique du Sud          0.0       NaN         NaN                -0.0  \n",
       "Algérie                 0.0       NaN         NaN                 0.0  \n",
       "Angola                  0.0       NaN         2.0                -0.0  \n",
       "Antigua-et-Barbuda      0.0       NaN         NaN                 0.0  \n",
       "Bahamas                 0.0       NaN         NaN                 4.0  "
      ]
     },
     "execution_count": 294,
     "metadata": {},
     "output_type": "execute_result"
    }
   ],
   "source": [
    "groups = []\n",
    "for name, group in df_dispo_al.groupby(\"Élément\"):\n",
    "    group.drop(columns=\"Élément\", inplace=True)\n",
    "    group.rename(columns={\"Valeur\": name}, inplace=True)\n",
    "    group.drop_duplicates(\"Zone\", keep=\"first\", inplace=True)\n",
    "    group.set_index(\"Zone\", inplace=True)\n",
    "    groups.append(group)\n",
    "\n",
    "df = pd.concat(groups, axis=1)\n",
    "df.head()\n"
   ]
  },
  {
   "cell_type": "code",
   "execution_count": 295,
   "metadata": {},
   "outputs": [
    {
     "data": {
      "text/plain": [
       "(172, 17)"
      ]
     },
     "execution_count": 295,
     "metadata": {},
     "output_type": "execute_result"
    }
   ],
   "source": [
    "df.shape"
   ]
  },
  {
   "cell_type": "code",
   "execution_count": 296,
   "metadata": {},
   "outputs": [
    {
     "data": {
      "text/plain": [
       "Index(['Alimentation pour touristes', 'Aliments pour animaux',\n",
       "       'Autres utilisations (non alimentaire)',\n",
       "       'Disponibilité alimentaire (Kcal/personne/jour)',\n",
       "       'Disponibilité alimentaire en quantité (kg/personne/an)',\n",
       "       'Disponibilité de matière grasse en quantité (g/personne/jour)',\n",
       "       'Disponibilité de protéines en quantité (g/personne/jour)',\n",
       "       'Disponibilité intérieure', 'Exportations - Quantité',\n",
       "       'Importations - Quantité', 'Nourriture', 'Pertes', 'Production',\n",
       "       'Résidus', 'Semences', 'Traitement', 'Variation de stock'],\n",
       "      dtype='object')"
      ]
     },
     "execution_count": 296,
     "metadata": {},
     "output_type": "execute_result"
    }
   ],
   "source": [
    "df.columns"
   ]
  },
  {
   "cell_type": "code",
   "execution_count": 297,
   "metadata": {},
   "outputs": [],
   "source": [
    "df = df[['Disponibilité alimentaire (Kcal/personne/jour)',\n",
    "       'Disponibilité intérieure', 'Importations - Quantité', 'Nourriture',\n",
    "       'Production', 'Variation de stock']]"
   ]
  },
  {
   "cell_type": "code",
   "execution_count": 298,
   "metadata": {},
   "outputs": [],
   "source": [
    "df.drop(index = \"France\",inplace=True)"
   ]
  },
  {
   "cell_type": "code",
   "execution_count": 299,
   "metadata": {},
   "outputs": [
    {
     "data": {
      "text/plain": [
       "Disponibilité alimentaire (Kcal/personne/jour)    0\n",
       "Disponibilité intérieure                          2\n",
       "Importations - Quantité                           2\n",
       "Nourriture                                        2\n",
       "Production                                        4\n",
       "Variation de stock                                3\n",
       "dtype: int64"
      ]
     },
     "execution_count": 299,
     "metadata": {},
     "output_type": "execute_result"
    }
   ],
   "source": [
    "df.isna().sum()"
   ]
  },
  {
   "cell_type": "markdown",
   "metadata": {},
   "source": [
    "Je remplace les valeur nan par la moyenne de la collonne "
   ]
  },
  {
   "cell_type": "code",
   "execution_count": 300,
   "metadata": {},
   "outputs": [],
   "source": [
    "df = df.fillna(df.mean())"
   ]
  },
  {
   "cell_type": "code",
   "execution_count": 301,
   "metadata": {},
   "outputs": [
    {
     "data": {
      "text/plain": [
       "Disponibilité alimentaire (Kcal/personne/jour)    0\n",
       "Disponibilité intérieure                          0\n",
       "Importations - Quantité                           0\n",
       "Nourriture                                        0\n",
       "Production                                        0\n",
       "Variation de stock                                0\n",
       "dtype: int64"
      ]
     },
     "execution_count": 301,
     "metadata": {},
     "output_type": "execute_result"
    }
   ],
   "source": [
    "df.isna().sum()"
   ]
  },
  {
   "cell_type": "code",
   "execution_count": 302,
   "metadata": {},
   "outputs": [],
   "source": [
    "df.reset_index(inplace=True)"
   ]
  },
  {
   "cell_type": "code",
   "execution_count": 303,
   "metadata": {},
   "outputs": [
    {
     "data": {
      "text/html": [
       "<div>\n",
       "<style scoped>\n",
       "    .dataframe tbody tr th:only-of-type {\n",
       "        vertical-align: middle;\n",
       "    }\n",
       "\n",
       "    .dataframe tbody tr th {\n",
       "        vertical-align: top;\n",
       "    }\n",
       "\n",
       "    .dataframe thead th {\n",
       "        text-align: right;\n",
       "    }\n",
       "</style>\n",
       "<table border=\"1\" class=\"dataframe\">\n",
       "  <thead>\n",
       "    <tr style=\"text-align: right;\">\n",
       "      <th></th>\n",
       "      <th>Disponibilité alimentaire (Kcal/personne/jour)</th>\n",
       "      <th>Disponibilité intérieure</th>\n",
       "      <th>Importations - Quantité</th>\n",
       "      <th>Nourriture</th>\n",
       "      <th>Production</th>\n",
       "      <th>Variation de stock</th>\n",
       "    </tr>\n",
       "  </thead>\n",
       "  <tbody>\n",
       "    <tr>\n",
       "      <th>count</th>\n",
       "      <td>171.00000</td>\n",
       "      <td>171.000000</td>\n",
       "      <td>171.000000</td>\n",
       "      <td>171.000000</td>\n",
       "      <td>171.000000</td>\n",
       "      <td>171.000000</td>\n",
       "    </tr>\n",
       "    <tr>\n",
       "      <th>mean</th>\n",
       "      <td>74.45614</td>\n",
       "      <td>682.355030</td>\n",
       "      <td>87.065089</td>\n",
       "      <td>652.147929</td>\n",
       "      <td>719.053892</td>\n",
       "      <td>12.660714</td>\n",
       "    </tr>\n",
       "    <tr>\n",
       "      <th>std</th>\n",
       "      <td>60.73435</td>\n",
       "      <td>2179.678539</td>\n",
       "      <td>183.342275</td>\n",
       "      <td>2129.300298</td>\n",
       "      <td>2478.033531</td>\n",
       "      <td>73.779228</td>\n",
       "    </tr>\n",
       "    <tr>\n",
       "      <th>min</th>\n",
       "      <td>0.00000</td>\n",
       "      <td>2.000000</td>\n",
       "      <td>0.000000</td>\n",
       "      <td>2.000000</td>\n",
       "      <td>0.000000</td>\n",
       "      <td>-119.000000</td>\n",
       "    </tr>\n",
       "    <tr>\n",
       "      <th>25%</th>\n",
       "      <td>22.00000</td>\n",
       "      <td>31.000000</td>\n",
       "      <td>3.000000</td>\n",
       "      <td>29.000000</td>\n",
       "      <td>14.500000</td>\n",
       "      <td>0.000000</td>\n",
       "    </tr>\n",
       "    <tr>\n",
       "      <th>50%</th>\n",
       "      <td>63.00000</td>\n",
       "      <td>102.000000</td>\n",
       "      <td>16.000000</td>\n",
       "      <td>101.000000</td>\n",
       "      <td>72.000000</td>\n",
       "      <td>0.000000</td>\n",
       "    </tr>\n",
       "    <tr>\n",
       "      <th>75%</th>\n",
       "      <td>106.00000</td>\n",
       "      <td>373.500000</td>\n",
       "      <td>83.000000</td>\n",
       "      <td>376.000000</td>\n",
       "      <td>478.000000</td>\n",
       "      <td>8.000000</td>\n",
       "    </tr>\n",
       "    <tr>\n",
       "      <th>max</th>\n",
       "      <td>243.00000</td>\n",
       "      <td>18266.000000</td>\n",
       "      <td>1069.000000</td>\n",
       "      <td>18100.000000</td>\n",
       "      <td>21914.000000</td>\n",
       "      <td>859.000000</td>\n",
       "    </tr>\n",
       "  </tbody>\n",
       "</table>\n",
       "</div>"
      ],
      "text/plain": [
       "       Disponibilité alimentaire (Kcal/personne/jour)  \\\n",
       "count                                       171.00000   \n",
       "mean                                         74.45614   \n",
       "std                                          60.73435   \n",
       "min                                           0.00000   \n",
       "25%                                          22.00000   \n",
       "50%                                          63.00000   \n",
       "75%                                         106.00000   \n",
       "max                                         243.00000   \n",
       "\n",
       "       Disponibilité intérieure  Importations - Quantité    Nourriture  \\\n",
       "count                171.000000               171.000000    171.000000   \n",
       "mean                 682.355030                87.065089    652.147929   \n",
       "std                 2179.678539               183.342275   2129.300298   \n",
       "min                    2.000000                 0.000000      2.000000   \n",
       "25%                   31.000000                 3.000000     29.000000   \n",
       "50%                  102.000000                16.000000    101.000000   \n",
       "75%                  373.500000                83.000000    376.000000   \n",
       "max                18266.000000              1069.000000  18100.000000   \n",
       "\n",
       "         Production  Variation de stock  \n",
       "count    171.000000          171.000000  \n",
       "mean     719.053892           12.660714  \n",
       "std     2478.033531           73.779228  \n",
       "min        0.000000         -119.000000  \n",
       "25%       14.500000            0.000000  \n",
       "50%       72.000000            0.000000  \n",
       "75%      478.000000            8.000000  \n",
       "max    21914.000000          859.000000  "
      ]
     },
     "execution_count": 303,
     "metadata": {},
     "output_type": "execute_result"
    }
   ],
   "source": [
    "df.describe()"
   ]
  },
  {
   "cell_type": "code",
   "execution_count": 304,
   "metadata": {},
   "outputs": [
    {
     "name": "stdout",
     "output_type": "stream",
     "text": [
      "df  ['Afrique du Sud' 'Algérie' 'Angola' 'Antigua-et-Barbuda' 'Bahamas'\n",
      " 'Bangladesh' 'Barbade' 'Belize' 'Bolivie (État plurinational de)'\n",
      " 'Botswana' 'Burkina Faso' 'Cabo Verde' 'Cambodge' 'Cameroun'\n",
      " 'Chine - RAS de Hong-Kong' 'Chine - RAS de Macao' 'Chine, continentale'\n",
      " 'Chypre' 'Colombie' 'Congo' 'Costa Rica' 'Cuba' 'Dominique' 'Égypte'\n",
      " 'Équateur' 'Éthiopie' 'Fidji' 'Grenade' 'Guatemala' 'Guinée' 'Haïti'\n",
      " 'Honduras' 'Îles Salomon' 'Inde' 'Indonésie' 'Iraq' 'Islande' 'Jamaïque'\n",
      " 'Kenya' 'Kiribati' 'Madagascar' 'Malawi' 'Maldives' 'Maurice' 'Mexique'\n",
      " 'Mozambique' 'Myanmar' 'Népal' 'Niger' 'Nigéria' 'Nouvelle-Calédonie'\n",
      " 'Ouganda' 'Pakistan' 'Pérou' 'Philippines' 'Polynésie française'\n",
      " 'République centrafricaine' 'République dominicaine'\n",
      " 'République-Unie de Tanzanie' 'Rwanda' 'Sainte-Lucie'\n",
      " 'Saint-Kitts-et-Nevis' 'Saint-Vincent-et-les Grenadines' 'Samoa'\n",
      " 'Sao Tomé-et-Principe' 'Sénégal' 'Sierra Leone' 'Soudan' 'Sri Lanka'\n",
      " 'Tadjikistan' 'Tchad' 'Thaïlande' 'Trinité-et-Tobago' 'Vanuatu'\n",
      " 'Venezuela (République bolivarienne du)' 'Viet Nam' 'Zambie' 'Zimbabwe'\n",
      " 'Chine, Taiwan Province de' \"États-Unis d'Amérique\" 'Gabon' 'Grèce'\n",
      " 'Guyana' 'Israël' 'Kazakhstan' 'Kirghizistan' 'Koweït' 'Malaisie' 'Malte'\n",
      " 'Oman' 'Panama' 'Portugal' 'Suriname' 'Afghanistan' 'Albanie' 'Allemagne'\n",
      " 'Arabie saoudite' 'Argentine' 'Arménie' 'Australie' 'Autriche'\n",
      " 'Azerbaïdjan' 'Bélarus' 'Belgique' 'Bénin' 'Bosnie-Herzégovine' 'Brésil'\n",
      " 'Bulgarie' 'Canada' 'Chili' \"Côte d'Ivoire\" 'Croatie' 'Danemark'\n",
      " 'Djibouti' 'El Salvador' 'Émirats arabes unis' 'Espagne' 'Estonie'\n",
      " 'Eswatini' 'Fédération de Russie' 'Finlande' 'Gambie' 'Géorgie' 'Ghana'\n",
      " 'Guinée-Bissau' 'Hongrie' \"Iran (République islamique d')\" 'Irlande'\n",
      " 'Italie' 'Japon' 'Jordanie' 'Lesotho' 'Lettonie' 'Liban' 'Libéria'\n",
      " 'Lituanie' 'Luxembourg' 'Macédoine du Nord' 'Mali' 'Maroc' 'Mauritanie'\n",
      " 'Mongolie' 'Monténégro' 'Namibie' 'Nicaragua' 'Norvège'\n",
      " 'Nouvelle-Zélande' 'Ouzbékistan' 'Paraguay' 'Pays-Bas' 'Pologne'\n",
      " 'République de Corée' 'République de Moldova'\n",
      " 'République démocratique populaire lao'\n",
      " 'République populaire démocratique de Corée' 'Roumanie'\n",
      " \"Royaume-Uni de Grande-Bretagne et d'Irlande du Nord\" 'Serbie'\n",
      " 'Slovaquie' 'Slovénie' 'Suède' 'Suisse' 'Tchéquie' 'Timor-Leste' 'Togo'\n",
      " 'Tunisie' 'Turkménistan' 'Turquie' 'Ukraine' 'Uruguay' 'Yémen'] pop ['Afghanistan' 'Afrique du Sud' 'Albanie' 'Algérie' 'Allemagne' 'Andorre'\n",
      " 'Angola' 'Anguilla' 'Antigua-et-Barbuda' 'Antilles néerlandaises (ex)'\n",
      " 'Arabie saoudite' 'Argentine' 'Arménie' 'Aruba' 'Australie' 'Autriche'\n",
      " 'Azerbaïdjan' 'Bahamas' 'Bahreïn' 'Bangladesh' 'Barbade' 'Bélarus'\n",
      " 'Belgique' 'Belize' 'Bénin' 'Bermudes' 'Bhoutan'\n",
      " 'Bolivie (État plurinational de)' 'Bonaire, Saint-Eustache et Saba'\n",
      " 'Bosnie-Herzégovine' 'Botswana' 'Brésil' 'Brunéi Darussalam' 'Bulgarie'\n",
      " 'Burkina Faso' 'Burundi' 'Cabo Verde' 'Cambodge' 'Cameroun' 'Canada'\n",
      " 'Chili' 'Chine - RAS de Hong-Kong' 'Chine - RAS de Macao'\n",
      " 'Chine, continentale' 'Chine, Taiwan Province de' 'Chypre' 'Colombie'\n",
      " 'Comores' 'Congo' 'Costa Rica' \"Côte d'Ivoire\" 'Croatie' 'Cuba' 'Curaçao'\n",
      " 'Danemark' 'Djibouti' 'Dominique' 'Égypte' 'El Salvador'\n",
      " 'Émirats arabes unis' 'Équateur' 'Érythrée' 'Espagne' 'Estonie'\n",
      " 'Eswatini' \"États-Unis d'Amérique\" 'Éthiopie' 'Fédération de Russie'\n",
      " 'Fidji' 'Finlande' 'France' 'Gabon' 'Gambie' 'Géorgie' 'Ghana'\n",
      " 'Gibraltar' 'Grèce' 'Grenade' 'Groenland' 'Guadeloupe' 'Guam' 'Guatemala'\n",
      " 'Guinée' 'Guinée équatoriale' 'Guinée-Bissau' 'Guyana' 'Guyane française'\n",
      " 'Haïti' 'Honduras' 'Hongrie' 'Île de Man' 'Îles Anglo-Normandes'\n",
      " 'Îles Caïmanes' 'Îles Cook' 'Îles Falkland (Malvinas)' 'Îles Féroé'\n",
      " 'Îles Mariannes du Nord' 'Îles Marshall' 'Îles Salomon'\n",
      " 'Îles Turques-et-Caïques' 'Îles Vierges américaines'\n",
      " 'Îles Vierges britanniques' 'Îles Wallis-et-Futuna' 'Inde' 'Indonésie'\n",
      " \"Iran (République islamique d')\" 'Iraq' 'Irlande' 'Islande' 'Israël'\n",
      " 'Italie' 'Jamaïque' 'Japon' 'Jordanie' 'Kazakhstan' 'Kenya'\n",
      " 'Kirghizistan' 'Kiribati' 'Koweït' 'Lesotho' 'Lettonie' 'Liban' 'Libéria'\n",
      " 'Libye' 'Liechtenstein' 'Lituanie' 'Luxembourg' 'Macédoine du Nord'\n",
      " 'Madagascar' 'Malaisie' 'Malawi' 'Maldives' 'Mali' 'Malte' 'Maroc'\n",
      " 'Martinique' 'Maurice' 'Mauritanie' 'Mayotte' 'Mexique'\n",
      " 'Micronésie (États fédérés de)' 'Monaco' 'Mongolie' 'Monténégro'\n",
      " 'Montserrat' 'Mozambique' 'Myanmar' 'Namibie' 'Nauru' 'Népal' 'Nicaragua'\n",
      " 'Niger' 'Nigéria' 'Nioué' 'Norvège' 'Nouvelle-Calédonie'\n",
      " 'Nouvelle-Zélande' 'Oman' 'Ouganda' 'Ouzbékistan' 'Pakistan' 'Palaos'\n",
      " 'Palestine' 'Panama' 'Papouasie-Nouvelle-Guinée' 'Paraguay' 'Pays-Bas'\n",
      " 'Pérou' 'Philippines' 'Pologne' 'Polynésie française' 'Porto Rico'\n",
      " 'Portugal' 'Qatar' 'République arabe syrienne'\n",
      " 'République centrafricaine' 'République de Corée' 'République de Moldova'\n",
      " 'République démocratique du Congo'\n",
      " 'République démocratique populaire lao' 'République dominicaine'\n",
      " 'République populaire démocratique de Corée'\n",
      " 'République-Unie de Tanzanie' 'Réunion' 'Roumanie'\n",
      " \"Royaume-Uni de Grande-Bretagne et d'Irlande du Nord\" 'Rwanda'\n",
      " 'Sahara occidental' 'Saint-Barthélemy'\n",
      " 'Sainte-Hélène, Ascension et Tristan da Cunha' 'Sainte-Lucie'\n",
      " 'Saint-Kitts-et-Nevis' 'Saint-Marin' 'Saint-Martin (partie française)'\n",
      " 'Saint-Pierre-et-Miquelon' 'Saint-Siège'\n",
      " 'Saint-Vincent-et-les Grenadines' 'Samoa' 'Samoa américaines'\n",
      " 'Sao Tomé-et-Principe' 'Sénégal' 'Serbie' 'Serbie-et-Monténégro'\n",
      " 'Seychelles' 'Sierra Leone' 'Singapour'\n",
      " 'Sint Maarten  (partie néerlandaise)' 'Slovaquie' 'Slovénie' 'Somalie'\n",
      " 'Soudan' 'Soudan (ex)' 'Soudan du Sud' 'Sri Lanka' 'Suède' 'Suisse'\n",
      " 'Suriname' 'Tadjikistan' 'Tchad' 'Tchéquie' 'Thaïlande' 'Timor-Leste'\n",
      " 'Togo' 'Tokélaou' 'Tonga' 'Trinité-et-Tobago' 'Tunisie' 'Turkménistan'\n",
      " 'Turquie' 'Tuvalu' 'Ukraine' 'Uruguay' 'Vanuatu'\n",
      " 'Venezuela (République bolivarienne du)' 'Viet Nam' 'Yémen' 'Zambie'\n",
      " 'Zimbabwe'] stabPol ['Pays-Bas (Royaume des)' 'Afghanistan' 'Afrique du Sud' 'Albanie'\n",
      " 'Algérie' 'Allemagne' 'Andorre' 'Angola' 'Antigua-et-Barbuda'\n",
      " 'Arabie saoudite' 'Argentine' 'Arménie' 'Australie' 'Autriche'\n",
      " 'Azerbaïdjan' 'Bahamas' 'Bahreïn' 'Bangladesh' 'Barbade' 'Bélarus'\n",
      " 'Belgique' 'Belize' 'Bénin' 'Bermudes' 'Bhoutan'\n",
      " 'Bolivie (État plurinational de)' 'Bosnie-Herzégovine' 'Botswana'\n",
      " 'Brésil' 'Brunéi Darussalam' 'Bulgarie' 'Burkina Faso' 'Burundi'\n",
      " 'Cabo Verde' 'Cambodge' 'Cameroun' 'Canada' 'Chili'\n",
      " 'Chine - RAS de Hong-Kong' 'Chine - RAS de Macao' 'Chypre' 'Colombie'\n",
      " 'Comores' 'Congo' 'Costa Rica' \"Côte d'Ivoire\" 'Croatie' 'Cuba'\n",
      " 'Danemark' 'Djibouti' 'Dominique' 'Égypte' 'El Salvador'\n",
      " 'Émirats arabes unis' 'Équateur' 'Érythrée' 'Espagne' 'Estonie'\n",
      " 'Eswatini' \"États-Unis d'Amérique\" 'Éthiopie' 'Fédération de Russie'\n",
      " 'Fidji' 'Finlande' 'France' 'Gabon' 'Gambie' 'Géorgie' 'Ghana' 'Grèce'\n",
      " 'Grenade' 'Groenland' 'Guatemala' 'Guinée' 'Guinée équatoriale'\n",
      " 'Guinée-Bissau' 'Guyana' 'Haïti' 'Honduras' 'Hongrie' 'Îles Marshall'\n",
      " 'Îles Salomon' 'Inde' 'Indonésie' \"Iran (République islamique d')\" 'Iraq'\n",
      " 'Irlande' 'Islande' 'Israël' 'Italie' 'Jamaïque' 'Japon' 'Jordanie'\n",
      " 'Kazakhstan' 'Kenya' 'Kirghizistan' 'Kiribati' 'Koweït' 'Lesotho'\n",
      " 'Lettonie' 'Liban' 'Libéria' 'Libye' 'Lituanie' 'Luxembourg'\n",
      " 'Macédoine du Nord' 'Madagascar' 'Malaisie' 'Malawi' 'Maldives' 'Mali'\n",
      " 'Malte' 'Maroc' 'Maurice' 'Mauritanie' 'Mexique'\n",
      " 'Micronésie (États fédérés de)' 'Mongolie' 'Monténégro' 'Mozambique'\n",
      " 'Myanmar' 'Namibie' 'Nauru' 'Népal' 'Nicaragua' 'Niger' 'Nigéria'\n",
      " 'Norvège' 'Nouvelle-Zélande' 'Oman' 'Ouganda' 'Ouzbékistan' 'Pakistan'\n",
      " 'Palaos' 'Palestine' 'Panama' 'Papouasie-Nouvelle-Guinée' 'Paraguay'\n",
      " 'Pérou' 'Philippines' 'Pologne' 'Porto Rico' 'Portugal' 'Qatar'\n",
      " 'République arabe syrienne' 'République centrafricaine'\n",
      " 'République de Corée' 'République de Moldova'\n",
      " 'République démocratique du Congo'\n",
      " 'République démocratique populaire lao' 'République dominicaine'\n",
      " 'République populaire démocratique de Corée'\n",
      " 'République-Unie de Tanzanie' 'Roumanie'\n",
      " \"Royaume-Uni de Grande-Bretagne et d'Irlande du Nord\" 'Rwanda'\n",
      " 'Sainte-Lucie' 'Saint-Kitts-et-Nevis' 'Saint-Vincent-et-les Grenadines'\n",
      " 'Samoa' 'Samoa américaines' 'Sao Tomé-et-Principe' 'Sénégal' 'Serbie'\n",
      " 'Seychelles' 'Sierra Leone' 'Singapour' 'Slovaquie' 'Slovénie' 'Somalie'\n",
      " 'Soudan' 'Soudan du Sud' 'Sri Lanka' 'Suède' 'Suisse' 'Suriname'\n",
      " 'Tadjikistan' 'Tchad' 'Tchéquie' 'Thaïlande' 'Timor-Leste' 'Togo' 'Tonga'\n",
      " 'Trinité-et-Tobago' 'Tunisie' 'Turkménistan' 'Turquie' 'Tuvalu' 'Ukraine'\n",
      " 'Uruguay' 'Vanuatu' 'Venezuela (République bolivarienne du)' 'Viet Nam'\n",
      " 'Yémen' 'Zambie' 'Zimbabwe']\n"
     ]
    }
   ],
   "source": [
    "print(\"df \",df.Zone.unique(), \"pop\",df_pop.Zone.unique(),\"stabPol\",df_stabPol.Zone.unique())"
   ]
  },
  {
   "cell_type": "markdown",
   "metadata": {},
   "source": [
    "## //"
   ]
  },
  {
   "cell_type": "markdown",
   "metadata": {},
   "source": [
    "## df_pop"
   ]
  },
  {
   "cell_type": "markdown",
   "metadata": {},
   "source": [
    "df_dispo_al représente les donnée de l'année 2017 je filtre donc df_pop sur 2017"
   ]
  },
  {
   "cell_type": "code",
   "execution_count": 305,
   "metadata": {},
   "outputs": [],
   "source": [
    "df_pop = df_pop[df_pop.Année == 2017]"
   ]
  },
  {
   "cell_type": "code",
   "execution_count": 306,
   "metadata": {},
   "outputs": [
    {
     "data": {
      "text/plain": [
       "array([2017], dtype=int64)"
      ]
     },
     "execution_count": 306,
     "metadata": {},
     "output_type": "execute_result"
    }
   ],
   "source": [
    "df_pop.Année.unique()"
   ]
  },
  {
   "cell_type": "code",
   "execution_count": 307,
   "metadata": {},
   "outputs": [
    {
     "data": {
      "text/plain": [
       "Index(['Code Domaine', 'Domaine', 'Code zone', 'Zone', 'Code Élément',\n",
       "       'Élément', 'Code Produit', 'Produit', 'Code année', 'Année', 'Unité',\n",
       "       'Valeur', 'Symbole', 'Description du Symbole', 'Note'],\n",
       "      dtype='object')"
      ]
     },
     "execution_count": 307,
     "metadata": {},
     "output_type": "execute_result"
    }
   ],
   "source": [
    "df_pop.columns"
   ]
  },
  {
   "cell_type": "code",
   "execution_count": 308,
   "metadata": {},
   "outputs": [],
   "source": [
    "df_pop = df_pop[[\"Zone\",\"Valeur\"]]"
   ]
  },
  {
   "cell_type": "code",
   "execution_count": 309,
   "metadata": {},
   "outputs": [
    {
     "data": {
      "text/plain": [
       "0"
      ]
     },
     "execution_count": 309,
     "metadata": {},
     "output_type": "execute_result"
    }
   ],
   "source": [
    "df_pop.Zone.duplicated().sum()"
   ]
  },
  {
   "cell_type": "code",
   "execution_count": 310,
   "metadata": {},
   "outputs": [
    {
     "data": {
      "text/html": [
       "<div>\n",
       "<style scoped>\n",
       "    .dataframe tbody tr th:only-of-type {\n",
       "        vertical-align: middle;\n",
       "    }\n",
       "\n",
       "    .dataframe tbody tr th {\n",
       "        vertical-align: top;\n",
       "    }\n",
       "\n",
       "    .dataframe thead th {\n",
       "        text-align: right;\n",
       "    }\n",
       "</style>\n",
       "<table border=\"1\" class=\"dataframe\">\n",
       "  <thead>\n",
       "    <tr style=\"text-align: right;\">\n",
       "      <th></th>\n",
       "      <th>Zone</th>\n",
       "      <th>Valeur</th>\n",
       "    </tr>\n",
       "  </thead>\n",
       "  <tbody>\n",
       "    <tr>\n",
       "      <th>1325</th>\n",
       "      <td>France</td>\n",
       "      <td>64842.509</td>\n",
       "    </tr>\n",
       "  </tbody>\n",
       "</table>\n",
       "</div>"
      ],
      "text/plain": [
       "        Zone     Valeur\n",
       "1325  France  64842.509"
      ]
     },
     "execution_count": 310,
     "metadata": {},
     "output_type": "execute_result"
    }
   ],
   "source": [
    "df_pop[df_pop[\"Zone\"] == \"France\"]"
   ]
  },
  {
   "cell_type": "code",
   "execution_count": 311,
   "metadata": {},
   "outputs": [],
   "source": [
    "df_pop.drop(index = 1325,inplace=True)"
   ]
  },
  {
   "cell_type": "code",
   "execution_count": 312,
   "metadata": {},
   "outputs": [],
   "source": [
    "df_pop.rename(columns={\"Valeur\" : \"Population\"},inplace=True)"
   ]
  },
  {
   "cell_type": "code",
   "execution_count": 313,
   "metadata": {},
   "outputs": [],
   "source": [
    "df_pop['Population'] = df_pop[\"Population\"]*1000"
   ]
  },
  {
   "cell_type": "code",
   "execution_count": 314,
   "metadata": {},
   "outputs": [
    {
     "data": {
      "text/html": [
       "<div>\n",
       "<style scoped>\n",
       "    .dataframe tbody tr th:only-of-type {\n",
       "        vertical-align: middle;\n",
       "    }\n",
       "\n",
       "    .dataframe tbody tr th {\n",
       "        vertical-align: top;\n",
       "    }\n",
       "\n",
       "    .dataframe thead th {\n",
       "        text-align: right;\n",
       "    }\n",
       "</style>\n",
       "<table border=\"1\" class=\"dataframe\">\n",
       "  <thead>\n",
       "    <tr style=\"text-align: right;\">\n",
       "      <th></th>\n",
       "      <th>Zone</th>\n",
       "      <th>Population</th>\n",
       "    </tr>\n",
       "  </thead>\n",
       "  <tbody>\n",
       "    <tr>\n",
       "      <th>17</th>\n",
       "      <td>Afghanistan</td>\n",
       "      <td>36296113.0</td>\n",
       "    </tr>\n",
       "    <tr>\n",
       "      <th>36</th>\n",
       "      <td>Afrique du Sud</td>\n",
       "      <td>57009756.0</td>\n",
       "    </tr>\n",
       "    <tr>\n",
       "      <th>55</th>\n",
       "      <td>Albanie</td>\n",
       "      <td>2884169.0</td>\n",
       "    </tr>\n",
       "    <tr>\n",
       "      <th>74</th>\n",
       "      <td>Algérie</td>\n",
       "      <td>41389189.0</td>\n",
       "    </tr>\n",
       "    <tr>\n",
       "      <th>93</th>\n",
       "      <td>Allemagne</td>\n",
       "      <td>82658409.0</td>\n",
       "    </tr>\n",
       "  </tbody>\n",
       "</table>\n",
       "</div>"
      ],
      "text/plain": [
       "              Zone  Population\n",
       "17     Afghanistan  36296113.0\n",
       "36  Afrique du Sud  57009756.0\n",
       "55         Albanie   2884169.0\n",
       "74         Algérie  41389189.0\n",
       "93       Allemagne  82658409.0"
      ]
     },
     "execution_count": 314,
     "metadata": {},
     "output_type": "execute_result"
    }
   ],
   "source": [
    "df_pop.head()"
   ]
  },
  {
   "cell_type": "code",
   "execution_count": 315,
   "metadata": {},
   "outputs": [
    {
     "data": {
      "text/plain": [
       "7483291602.0"
      ]
     },
     "execution_count": 315,
     "metadata": {},
     "output_type": "execute_result"
    }
   ],
   "source": [
    "df_pop.Population.sum()"
   ]
  },
  {
   "cell_type": "code",
   "execution_count": 316,
   "metadata": {},
   "outputs": [
    {
     "data": {
      "text/html": [
       "<div>\n",
       "<style scoped>\n",
       "    .dataframe tbody tr th:only-of-type {\n",
       "        vertical-align: middle;\n",
       "    }\n",
       "\n",
       "    .dataframe tbody tr th {\n",
       "        vertical-align: top;\n",
       "    }\n",
       "\n",
       "    .dataframe thead th {\n",
       "        text-align: right;\n",
       "    }\n",
       "</style>\n",
       "<table border=\"1\" class=\"dataframe\">\n",
       "  <thead>\n",
       "    <tr style=\"text-align: right;\">\n",
       "      <th></th>\n",
       "      <th>Population</th>\n",
       "    </tr>\n",
       "  </thead>\n",
       "  <tbody>\n",
       "    <tr>\n",
       "      <th>count</th>\n",
       "      <td>2.350000e+02</td>\n",
       "    </tr>\n",
       "    <tr>\n",
       "      <th>mean</th>\n",
       "      <td>3.184379e+07</td>\n",
       "    </tr>\n",
       "    <tr>\n",
       "      <th>std</th>\n",
       "      <td>1.321589e+08</td>\n",
       "    </tr>\n",
       "    <tr>\n",
       "      <th>min</th>\n",
       "      <td>7.930000e+02</td>\n",
       "    </tr>\n",
       "    <tr>\n",
       "      <th>25%</th>\n",
       "      <td>3.788515e+05</td>\n",
       "    </tr>\n",
       "    <tr>\n",
       "      <th>50%</th>\n",
       "      <td>5.110695e+06</td>\n",
       "    </tr>\n",
       "    <tr>\n",
       "      <th>75%</th>\n",
       "      <td>1.885283e+07</td>\n",
       "    </tr>\n",
       "    <tr>\n",
       "      <th>max</th>\n",
       "      <td>1.421022e+09</td>\n",
       "    </tr>\n",
       "  </tbody>\n",
       "</table>\n",
       "</div>"
      ],
      "text/plain": [
       "         Population\n",
       "count  2.350000e+02\n",
       "mean   3.184379e+07\n",
       "std    1.321589e+08\n",
       "min    7.930000e+02\n",
       "25%    3.788515e+05\n",
       "50%    5.110695e+06\n",
       "75%    1.885283e+07\n",
       "max    1.421022e+09"
      ]
     },
     "execution_count": 316,
     "metadata": {},
     "output_type": "execute_result"
    }
   ],
   "source": [
    "df_pop.describe()"
   ]
  },
  {
   "cell_type": "markdown",
   "metadata": {},
   "source": [
    "## //"
   ]
  },
  {
   "cell_type": "markdown",
   "metadata": {},
   "source": [
    "## df_stabPol"
   ]
  },
  {
   "cell_type": "code",
   "execution_count": 317,
   "metadata": {},
   "outputs": [],
   "source": [
    "df_stabPol = df_stabPol[df_stabPol['Année'] == 2017]"
   ]
  },
  {
   "cell_type": "code",
   "execution_count": 318,
   "metadata": {},
   "outputs": [
    {
     "data": {
      "text/plain": [
       "Index(['Code Domaine', 'Domaine', 'Code zone', 'Zone', 'Code Élément',\n",
       "       'Élément', 'Code Produit', 'Produit', 'Code année', 'Année', 'Unité',\n",
       "       'Valeur', 'Symbole', 'Description du Symbole', 'Note'],\n",
       "      dtype='object')"
      ]
     },
     "execution_count": 318,
     "metadata": {},
     "output_type": "execute_result"
    }
   ],
   "source": [
    "df_stabPol.columns"
   ]
  },
  {
   "cell_type": "code",
   "execution_count": 319,
   "metadata": {},
   "outputs": [],
   "source": [
    "df_stabPol = df_stabPol[[\"Zone\",\"Valeur\"]]"
   ]
  },
  {
   "cell_type": "code",
   "execution_count": 400,
   "metadata": {},
   "outputs": [
    {
     "data": {
      "text/html": [
       "<div>\n",
       "<style scoped>\n",
       "    .dataframe tbody tr th:only-of-type {\n",
       "        vertical-align: middle;\n",
       "    }\n",
       "\n",
       "    .dataframe tbody tr th {\n",
       "        vertical-align: top;\n",
       "    }\n",
       "\n",
       "    .dataframe thead th {\n",
       "        text-align: right;\n",
       "    }\n",
       "</style>\n",
       "<table border=\"1\" class=\"dataframe\">\n",
       "  <thead>\n",
       "    <tr style=\"text-align: right;\">\n",
       "      <th></th>\n",
       "      <th>Zone</th>\n",
       "      <th>stabilite pol</th>\n",
       "    </tr>\n",
       "  </thead>\n",
       "  <tbody>\n",
       "    <tr>\n",
       "      <th>1360</th>\n",
       "      <td>France</td>\n",
       "      <td>0.28</td>\n",
       "    </tr>\n",
       "  </tbody>\n",
       "</table>\n",
       "</div>"
      ],
      "text/plain": [
       "        Zone  stabilite pol\n",
       "1360  France           0.28"
      ]
     },
     "execution_count": 400,
     "metadata": {},
     "output_type": "execute_result"
    }
   ],
   "source": [
    "df_stabPol[df_stabPol['Zone'] == \"France\"]"
   ]
  },
  {
   "cell_type": "code",
   "execution_count": 402,
   "metadata": {},
   "outputs": [],
   "source": [
    "df_stabPol.drop(index = 1360 , inplace = True)"
   ]
  },
  {
   "cell_type": "code",
   "execution_count": 404,
   "metadata": {},
   "outputs": [
    {
     "data": {
      "text/html": [
       "<div>\n",
       "<style scoped>\n",
       "    .dataframe tbody tr th:only-of-type {\n",
       "        vertical-align: middle;\n",
       "    }\n",
       "\n",
       "    .dataframe tbody tr th {\n",
       "        vertical-align: top;\n",
       "    }\n",
       "\n",
       "    .dataframe thead th {\n",
       "        text-align: right;\n",
       "    }\n",
       "</style>\n",
       "<table border=\"1\" class=\"dataframe\">\n",
       "  <thead>\n",
       "    <tr style=\"text-align: right;\">\n",
       "      <th></th>\n",
       "      <th>Zone</th>\n",
       "      <th>stabilite pol</th>\n",
       "    </tr>\n",
       "  </thead>\n",
       "  <tbody>\n",
       "    <tr>\n",
       "      <th>16</th>\n",
       "      <td>Pays-Bas (Royaume des)</td>\n",
       "      <td>0.92</td>\n",
       "    </tr>\n",
       "    <tr>\n",
       "      <th>37</th>\n",
       "      <td>Afghanistan</td>\n",
       "      <td>-2.80</td>\n",
       "    </tr>\n",
       "    <tr>\n",
       "      <th>58</th>\n",
       "      <td>Afrique du Sud</td>\n",
       "      <td>-0.28</td>\n",
       "    </tr>\n",
       "    <tr>\n",
       "      <th>79</th>\n",
       "      <td>Albanie</td>\n",
       "      <td>0.38</td>\n",
       "    </tr>\n",
       "    <tr>\n",
       "      <th>100</th>\n",
       "      <td>Algérie</td>\n",
       "      <td>-0.92</td>\n",
       "    </tr>\n",
       "  </tbody>\n",
       "</table>\n",
       "</div>"
      ],
      "text/plain": [
       "                       Zone  stabilite pol\n",
       "16   Pays-Bas (Royaume des)           0.92\n",
       "37              Afghanistan          -2.80\n",
       "58           Afrique du Sud          -0.28\n",
       "79                  Albanie           0.38\n",
       "100                 Algérie          -0.92"
      ]
     },
     "execution_count": 404,
     "metadata": {},
     "output_type": "execute_result"
    }
   ],
   "source": [
    "df_stabPol.head()"
   ]
  },
  {
   "cell_type": "code",
   "execution_count": 405,
   "metadata": {},
   "outputs": [],
   "source": [
    "df_stabPol.rename(columns={'Valeur': 'stabilite pol'},inplace=True)"
   ]
  },
  {
   "cell_type": "code",
   "execution_count": 406,
   "metadata": {},
   "outputs": [
    {
     "data": {
      "text/html": [
       "<div>\n",
       "<style scoped>\n",
       "    .dataframe tbody tr th:only-of-type {\n",
       "        vertical-align: middle;\n",
       "    }\n",
       "\n",
       "    .dataframe tbody tr th {\n",
       "        vertical-align: top;\n",
       "    }\n",
       "\n",
       "    .dataframe thead th {\n",
       "        text-align: right;\n",
       "    }\n",
       "</style>\n",
       "<table border=\"1\" class=\"dataframe\">\n",
       "  <thead>\n",
       "    <tr style=\"text-align: right;\">\n",
       "      <th></th>\n",
       "      <th>stabilite pol</th>\n",
       "    </tr>\n",
       "  </thead>\n",
       "  <tbody>\n",
       "    <tr>\n",
       "      <th>count</th>\n",
       "      <td>195.000000</td>\n",
       "    </tr>\n",
       "    <tr>\n",
       "      <th>mean</th>\n",
       "      <td>-0.068256</td>\n",
       "    </tr>\n",
       "    <tr>\n",
       "      <th>std</th>\n",
       "      <td>0.997414</td>\n",
       "    </tr>\n",
       "    <tr>\n",
       "      <th>min</th>\n",
       "      <td>-2.940000</td>\n",
       "    </tr>\n",
       "    <tr>\n",
       "      <th>25%</th>\n",
       "      <td>-0.660000</td>\n",
       "    </tr>\n",
       "    <tr>\n",
       "      <th>50%</th>\n",
       "      <td>0.030000</td>\n",
       "    </tr>\n",
       "    <tr>\n",
       "      <th>75%</th>\n",
       "      <td>0.760000</td>\n",
       "    </tr>\n",
       "    <tr>\n",
       "      <th>max</th>\n",
       "      <td>1.920000</td>\n",
       "    </tr>\n",
       "  </tbody>\n",
       "</table>\n",
       "</div>"
      ],
      "text/plain": [
       "       stabilite pol\n",
       "count     195.000000\n",
       "mean       -0.068256\n",
       "std         0.997414\n",
       "min        -2.940000\n",
       "25%        -0.660000\n",
       "50%         0.030000\n",
       "75%         0.760000\n",
       "max         1.920000"
      ]
     },
     "execution_count": 406,
     "metadata": {},
     "output_type": "execute_result"
    }
   ],
   "source": [
    "df_stabPol.describe()"
   ]
  },
  {
   "cell_type": "code",
   "execution_count": 407,
   "metadata": {},
   "outputs": [
    {
     "data": {
      "text/plain": [
       "(235, 2)"
      ]
     },
     "execution_count": 407,
     "metadata": {},
     "output_type": "execute_result"
    }
   ],
   "source": [
    "df_pop.shape"
   ]
  },
  {
   "cell_type": "code",
   "execution_count": 408,
   "metadata": {},
   "outputs": [
    {
     "data": {
      "text/plain": [
       "(171, 7)"
      ]
     },
     "execution_count": 408,
     "metadata": {},
     "output_type": "execute_result"
    }
   ],
   "source": [
    "df.shape"
   ]
  },
  {
   "cell_type": "markdown",
   "metadata": {},
   "source": [
    "# Merge"
   ]
  },
  {
   "cell_type": "code",
   "execution_count": 409,
   "metadata": {},
   "outputs": [],
   "source": [
    "df_inner = pd.merge(df,df_pop, how='inner',on='Zone')"
   ]
  },
  {
   "cell_type": "code",
   "execution_count": 410,
   "metadata": {},
   "outputs": [
    {
     "data": {
      "text/plain": [
       "(171, 8)"
      ]
     },
     "execution_count": 410,
     "metadata": {},
     "output_type": "execute_result"
    }
   ],
   "source": [
    "df_inner.shape"
   ]
  },
  {
   "cell_type": "code",
   "execution_count": 411,
   "metadata": {},
   "outputs": [],
   "source": [
    "df_inner = pd.merge(df_inner,df_stabPol, how='left',on='Zone')"
   ]
  },
  {
   "cell_type": "code",
   "execution_count": 412,
   "metadata": {},
   "outputs": [
    {
     "data": {
      "text/plain": [
       "(171, 9)"
      ]
     },
     "execution_count": 412,
     "metadata": {},
     "output_type": "execute_result"
    }
   ],
   "source": [
    "df_inner.shape"
   ]
  },
  {
   "cell_type": "code",
   "execution_count": 413,
   "metadata": {},
   "outputs": [
    {
     "data": {
      "text/html": [
       "<div>\n",
       "<style scoped>\n",
       "    .dataframe tbody tr th:only-of-type {\n",
       "        vertical-align: middle;\n",
       "    }\n",
       "\n",
       "    .dataframe tbody tr th {\n",
       "        vertical-align: top;\n",
       "    }\n",
       "\n",
       "    .dataframe thead th {\n",
       "        text-align: right;\n",
       "    }\n",
       "</style>\n",
       "<table border=\"1\" class=\"dataframe\">\n",
       "  <thead>\n",
       "    <tr style=\"text-align: right;\">\n",
       "      <th></th>\n",
       "      <th>stabilite pol</th>\n",
       "    </tr>\n",
       "  </thead>\n",
       "  <tbody>\n",
       "    <tr>\n",
       "      <th>count</th>\n",
       "      <td>195.000000</td>\n",
       "    </tr>\n",
       "    <tr>\n",
       "      <th>mean</th>\n",
       "      <td>-0.068256</td>\n",
       "    </tr>\n",
       "    <tr>\n",
       "      <th>std</th>\n",
       "      <td>0.997414</td>\n",
       "    </tr>\n",
       "    <tr>\n",
       "      <th>min</th>\n",
       "      <td>-2.940000</td>\n",
       "    </tr>\n",
       "    <tr>\n",
       "      <th>25%</th>\n",
       "      <td>-0.660000</td>\n",
       "    </tr>\n",
       "    <tr>\n",
       "      <th>50%</th>\n",
       "      <td>0.030000</td>\n",
       "    </tr>\n",
       "    <tr>\n",
       "      <th>75%</th>\n",
       "      <td>0.760000</td>\n",
       "    </tr>\n",
       "    <tr>\n",
       "      <th>max</th>\n",
       "      <td>1.920000</td>\n",
       "    </tr>\n",
       "  </tbody>\n",
       "</table>\n",
       "</div>"
      ],
      "text/plain": [
       "       stabilite pol\n",
       "count     195.000000\n",
       "mean       -0.068256\n",
       "std         0.997414\n",
       "min        -2.940000\n",
       "25%        -0.660000\n",
       "50%         0.030000\n",
       "75%         0.760000\n",
       "max         1.920000"
      ]
     },
     "execution_count": 413,
     "metadata": {},
     "output_type": "execute_result"
    }
   ],
   "source": [
    "df_stabPol.describe()"
   ]
  },
  {
   "cell_type": "code",
   "execution_count": 414,
   "metadata": {},
   "outputs": [
    {
     "data": {
      "text/html": [
       "<div>\n",
       "<style scoped>\n",
       "    .dataframe tbody tr th:only-of-type {\n",
       "        vertical-align: middle;\n",
       "    }\n",
       "\n",
       "    .dataframe tbody tr th {\n",
       "        vertical-align: top;\n",
       "    }\n",
       "\n",
       "    .dataframe thead th {\n",
       "        text-align: right;\n",
       "    }\n",
       "</style>\n",
       "<table border=\"1\" class=\"dataframe\">\n",
       "  <thead>\n",
       "    <tr style=\"text-align: right;\">\n",
       "      <th></th>\n",
       "      <th>Zone</th>\n",
       "      <th>Disponibilité alimentaire (Kcal/personne/jour)</th>\n",
       "      <th>Disponibilité intérieure</th>\n",
       "      <th>Importations - Quantité</th>\n",
       "      <th>Nourriture</th>\n",
       "      <th>Production</th>\n",
       "      <th>Variation de stock</th>\n",
       "      <th>Population</th>\n",
       "      <th>stabilite pol</th>\n",
       "    </tr>\n",
       "  </thead>\n",
       "  <tbody>\n",
       "    <tr>\n",
       "      <th>16</th>\n",
       "      <td>Chine, continentale</td>\n",
       "      <td>59.0</td>\n",
       "      <td>18161.0</td>\n",
       "      <td>452.0</td>\n",
       "      <td>17518.0</td>\n",
       "      <td>18236.0</td>\n",
       "      <td>-50.0</td>\n",
       "      <td>1.421022e+09</td>\n",
       "      <td>NaN</td>\n",
       "    </tr>\n",
       "    <tr>\n",
       "      <th>50</th>\n",
       "      <td>Nouvelle-Calédonie</td>\n",
       "      <td>136.0</td>\n",
       "      <td>11.0</td>\n",
       "      <td>9.0</td>\n",
       "      <td>11.0</td>\n",
       "      <td>1.0</td>\n",
       "      <td>-1.0</td>\n",
       "      <td>2.771500e+05</td>\n",
       "      <td>NaN</td>\n",
       "    </tr>\n",
       "    <tr>\n",
       "      <th>55</th>\n",
       "      <td>Polynésie française</td>\n",
       "      <td>167.0</td>\n",
       "      <td>15.0</td>\n",
       "      <td>15.0</td>\n",
       "      <td>13.0</td>\n",
       "      <td>1.0</td>\n",
       "      <td>0.0</td>\n",
       "      <td>2.761020e+05</td>\n",
       "      <td>NaN</td>\n",
       "    </tr>\n",
       "    <tr>\n",
       "      <th>78</th>\n",
       "      <td>Chine, Taiwan Province de</td>\n",
       "      <td>126.0</td>\n",
       "      <td>785.0</td>\n",
       "      <td>161.0</td>\n",
       "      <td>785.0</td>\n",
       "      <td>652.0</td>\n",
       "      <td>20.0</td>\n",
       "      <td>2.367455e+07</td>\n",
       "      <td>NaN</td>\n",
       "    </tr>\n",
       "    <tr>\n",
       "      <th>149</th>\n",
       "      <td>Pays-Bas</td>\n",
       "      <td>70.0</td>\n",
       "      <td>372.0</td>\n",
       "      <td>608.0</td>\n",
       "      <td>346.0</td>\n",
       "      <td>1100.0</td>\n",
       "      <td>-82.0</td>\n",
       "      <td>1.702135e+07</td>\n",
       "      <td>NaN</td>\n",
       "    </tr>\n",
       "  </tbody>\n",
       "</table>\n",
       "</div>"
      ],
      "text/plain": [
       "                          Zone  \\\n",
       "16         Chine, continentale   \n",
       "50          Nouvelle-Calédonie   \n",
       "55         Polynésie française   \n",
       "78   Chine, Taiwan Province de   \n",
       "149                   Pays-Bas   \n",
       "\n",
       "     Disponibilité alimentaire (Kcal/personne/jour)  Disponibilité intérieure  \\\n",
       "16                                             59.0                   18161.0   \n",
       "50                                            136.0                      11.0   \n",
       "55                                            167.0                      15.0   \n",
       "78                                            126.0                     785.0   \n",
       "149                                            70.0                     372.0   \n",
       "\n",
       "     Importations - Quantité  Nourriture  Production  Variation de stock  \\\n",
       "16                     452.0     17518.0     18236.0               -50.0   \n",
       "50                       9.0        11.0         1.0                -1.0   \n",
       "55                      15.0        13.0         1.0                 0.0   \n",
       "78                     161.0       785.0       652.0                20.0   \n",
       "149                    608.0       346.0      1100.0               -82.0   \n",
       "\n",
       "       Population  stabilite pol  \n",
       "16   1.421022e+09            NaN  \n",
       "50   2.771500e+05            NaN  \n",
       "55   2.761020e+05            NaN  \n",
       "78   2.367455e+07            NaN  \n",
       "149  1.702135e+07            NaN  "
      ]
     },
     "execution_count": 414,
     "metadata": {},
     "output_type": "execute_result"
    }
   ],
   "source": [
    "df_inner[df_inner['stabilite pol'].isna()]"
   ]
  },
  {
   "cell_type": "code",
   "execution_count": 415,
   "metadata": {},
   "outputs": [
    {
     "data": {
      "text/html": [
       "<div>\n",
       "<style scoped>\n",
       "    .dataframe tbody tr th:only-of-type {\n",
       "        vertical-align: middle;\n",
       "    }\n",
       "\n",
       "    .dataframe tbody tr th {\n",
       "        vertical-align: top;\n",
       "    }\n",
       "\n",
       "    .dataframe thead th {\n",
       "        text-align: right;\n",
       "    }\n",
       "</style>\n",
       "<table border=\"1\" class=\"dataframe\">\n",
       "  <thead>\n",
       "    <tr style=\"text-align: right;\">\n",
       "      <th></th>\n",
       "      <th>Disponibilité alimentaire (Kcal/personne/jour)</th>\n",
       "      <th>Disponibilité intérieure</th>\n",
       "      <th>Importations - Quantité</th>\n",
       "      <th>Nourriture</th>\n",
       "      <th>Production</th>\n",
       "      <th>Variation de stock</th>\n",
       "      <th>Population</th>\n",
       "      <th>stabilite pol</th>\n",
       "    </tr>\n",
       "  </thead>\n",
       "  <tbody>\n",
       "    <tr>\n",
       "      <th>count</th>\n",
       "      <td>171.00000</td>\n",
       "      <td>171.000000</td>\n",
       "      <td>171.000000</td>\n",
       "      <td>171.000000</td>\n",
       "      <td>171.000000</td>\n",
       "      <td>171.000000</td>\n",
       "      <td>1.710000e+02</td>\n",
       "      <td>166.000000</td>\n",
       "    </tr>\n",
       "    <tr>\n",
       "      <th>mean</th>\n",
       "      <td>74.45614</td>\n",
       "      <td>682.355030</td>\n",
       "      <td>87.065089</td>\n",
       "      <td>652.147929</td>\n",
       "      <td>719.053892</td>\n",
       "      <td>12.660714</td>\n",
       "      <td>4.271310e+07</td>\n",
       "      <td>-0.077771</td>\n",
       "    </tr>\n",
       "    <tr>\n",
       "      <th>std</th>\n",
       "      <td>60.73435</td>\n",
       "      <td>2179.678539</td>\n",
       "      <td>183.342275</td>\n",
       "      <td>2129.300298</td>\n",
       "      <td>2478.033531</td>\n",
       "      <td>73.779228</td>\n",
       "      <td>1.535039e+08</td>\n",
       "      <td>0.902546</td>\n",
       "    </tr>\n",
       "    <tr>\n",
       "      <th>min</th>\n",
       "      <td>0.00000</td>\n",
       "      <td>2.000000</td>\n",
       "      <td>0.000000</td>\n",
       "      <td>2.000000</td>\n",
       "      <td>0.000000</td>\n",
       "      <td>-119.000000</td>\n",
       "      <td>5.204500e+04</td>\n",
       "      <td>-2.940000</td>\n",
       "    </tr>\n",
       "    <tr>\n",
       "      <th>25%</th>\n",
       "      <td>22.00000</td>\n",
       "      <td>31.000000</td>\n",
       "      <td>3.000000</td>\n",
       "      <td>29.000000</td>\n",
       "      <td>14.500000</td>\n",
       "      <td>0.000000</td>\n",
       "      <td>2.864792e+06</td>\n",
       "      <td>-0.637500</td>\n",
       "    </tr>\n",
       "    <tr>\n",
       "      <th>50%</th>\n",
       "      <td>63.00000</td>\n",
       "      <td>102.000000</td>\n",
       "      <td>16.000000</td>\n",
       "      <td>101.000000</td>\n",
       "      <td>72.000000</td>\n",
       "      <td>0.000000</td>\n",
       "      <td>9.729823e+06</td>\n",
       "      <td>-0.040000</td>\n",
       "    </tr>\n",
       "    <tr>\n",
       "      <th>75%</th>\n",
       "      <td>106.00000</td>\n",
       "      <td>373.500000</td>\n",
       "      <td>83.000000</td>\n",
       "      <td>376.000000</td>\n",
       "      <td>478.000000</td>\n",
       "      <td>8.000000</td>\n",
       "      <td>2.960962e+07</td>\n",
       "      <td>0.645000</td>\n",
       "    </tr>\n",
       "    <tr>\n",
       "      <th>max</th>\n",
       "      <td>243.00000</td>\n",
       "      <td>18266.000000</td>\n",
       "      <td>1069.000000</td>\n",
       "      <td>18100.000000</td>\n",
       "      <td>21914.000000</td>\n",
       "      <td>859.000000</td>\n",
       "      <td>1.421022e+09</td>\n",
       "      <td>1.600000</td>\n",
       "    </tr>\n",
       "  </tbody>\n",
       "</table>\n",
       "</div>"
      ],
      "text/plain": [
       "       Disponibilité alimentaire (Kcal/personne/jour)  \\\n",
       "count                                       171.00000   \n",
       "mean                                         74.45614   \n",
       "std                                          60.73435   \n",
       "min                                           0.00000   \n",
       "25%                                          22.00000   \n",
       "50%                                          63.00000   \n",
       "75%                                         106.00000   \n",
       "max                                         243.00000   \n",
       "\n",
       "       Disponibilité intérieure  Importations - Quantité    Nourriture  \\\n",
       "count                171.000000               171.000000    171.000000   \n",
       "mean                 682.355030                87.065089    652.147929   \n",
       "std                 2179.678539               183.342275   2129.300298   \n",
       "min                    2.000000                 0.000000      2.000000   \n",
       "25%                   31.000000                 3.000000     29.000000   \n",
       "50%                  102.000000                16.000000    101.000000   \n",
       "75%                  373.500000                83.000000    376.000000   \n",
       "max                18266.000000              1069.000000  18100.000000   \n",
       "\n",
       "         Production  Variation de stock    Population  stabilite pol  \n",
       "count    171.000000          171.000000  1.710000e+02     166.000000  \n",
       "mean     719.053892           12.660714  4.271310e+07      -0.077771  \n",
       "std     2478.033531           73.779228  1.535039e+08       0.902546  \n",
       "min        0.000000         -119.000000  5.204500e+04      -2.940000  \n",
       "25%       14.500000            0.000000  2.864792e+06      -0.637500  \n",
       "50%       72.000000            0.000000  9.729823e+06      -0.040000  \n",
       "75%      478.000000            8.000000  2.960962e+07       0.645000  \n",
       "max    21914.000000          859.000000  1.421022e+09       1.600000  "
      ]
     },
     "execution_count": 415,
     "metadata": {},
     "output_type": "execute_result"
    }
   ],
   "source": [
    "df_inner.describe()"
   ]
  },
  {
   "cell_type": "code",
   "execution_count": 416,
   "metadata": {},
   "outputs": [],
   "source": [
    "df_inner = df_inner.fillna(df_inner['stabilite pol'].mean())"
   ]
  },
  {
   "cell_type": "code",
   "execution_count": 417,
   "metadata": {},
   "outputs": [
    {
     "data": {
      "text/plain": [
       "Zone                                              0\n",
       "Disponibilité alimentaire (Kcal/personne/jour)    0\n",
       "Disponibilité intérieure                          0\n",
       "Importations - Quantité                           0\n",
       "Nourriture                                        0\n",
       "Production                                        0\n",
       "Variation de stock                                0\n",
       "Population                                        0\n",
       "stabilite pol                                     0\n",
       "dtype: int64"
      ]
     },
     "execution_count": 417,
     "metadata": {},
     "output_type": "execute_result"
    }
   ],
   "source": [
    "df_inner.isna().sum()"
   ]
  },
  {
   "cell_type": "code",
   "execution_count": 418,
   "metadata": {},
   "outputs": [
    {
     "data": {
      "text/plain": [
       "(171, 9)"
      ]
     },
     "execution_count": 418,
     "metadata": {},
     "output_type": "execute_result"
    }
   ],
   "source": [
    "df_inner.shape"
   ]
  },
  {
   "cell_type": "code",
   "execution_count": 419,
   "metadata": {},
   "outputs": [
    {
     "data": {
      "text/plain": [
       "Zone                                              0\n",
       "Disponibilité alimentaire (Kcal/personne/jour)    0\n",
       "Disponibilité intérieure                          0\n",
       "Importations - Quantité                           0\n",
       "Nourriture                                        0\n",
       "Production                                        0\n",
       "Variation de stock                                0\n",
       "Population                                        0\n",
       "stabilite pol                                     0\n",
       "dtype: int64"
      ]
     },
     "execution_count": 419,
     "metadata": {},
     "output_type": "execute_result"
    }
   ],
   "source": [
    "df_inner.isna().sum()"
   ]
  },
  {
   "cell_type": "code",
   "execution_count": 420,
   "metadata": {},
   "outputs": [
    {
     "data": {
      "text/html": [
       "<div>\n",
       "<style scoped>\n",
       "    .dataframe tbody tr th:only-of-type {\n",
       "        vertical-align: middle;\n",
       "    }\n",
       "\n",
       "    .dataframe tbody tr th {\n",
       "        vertical-align: top;\n",
       "    }\n",
       "\n",
       "    .dataframe thead th {\n",
       "        text-align: right;\n",
       "    }\n",
       "</style>\n",
       "<table border=\"1\" class=\"dataframe\">\n",
       "  <thead>\n",
       "    <tr style=\"text-align: right;\">\n",
       "      <th></th>\n",
       "      <th>Zone</th>\n",
       "      <th>Disponibilité alimentaire (Kcal/personne/jour)</th>\n",
       "      <th>Disponibilité intérieure</th>\n",
       "      <th>Importations - Quantité</th>\n",
       "      <th>Nourriture</th>\n",
       "      <th>Production</th>\n",
       "      <th>Variation de stock</th>\n",
       "      <th>Population</th>\n",
       "      <th>stabilite pol</th>\n",
       "    </tr>\n",
       "  </thead>\n",
       "  <tbody>\n",
       "    <tr>\n",
       "      <th>0</th>\n",
       "      <td>Afrique du Sud</td>\n",
       "      <td>143.0</td>\n",
       "      <td>2118.0</td>\n",
       "      <td>514.0</td>\n",
       "      <td>2035.0</td>\n",
       "      <td>1667.0</td>\n",
       "      <td>-0.0</td>\n",
       "      <td>57009756.0</td>\n",
       "      <td>-0.28</td>\n",
       "    </tr>\n",
       "    <tr>\n",
       "      <th>1</th>\n",
       "      <td>Algérie</td>\n",
       "      <td>22.0</td>\n",
       "      <td>277.0</td>\n",
       "      <td>2.0</td>\n",
       "      <td>264.0</td>\n",
       "      <td>275.0</td>\n",
       "      <td>0.0</td>\n",
       "      <td>41389189.0</td>\n",
       "      <td>-0.92</td>\n",
       "    </tr>\n",
       "    <tr>\n",
       "      <th>2</th>\n",
       "      <td>Angola</td>\n",
       "      <td>35.0</td>\n",
       "      <td>319.0</td>\n",
       "      <td>277.0</td>\n",
       "      <td>315.0</td>\n",
       "      <td>42.0</td>\n",
       "      <td>-0.0</td>\n",
       "      <td>29816766.0</td>\n",
       "      <td>-0.38</td>\n",
       "    </tr>\n",
       "    <tr>\n",
       "      <th>3</th>\n",
       "      <td>Antigua-et-Barbuda</td>\n",
       "      <td>233.0</td>\n",
       "      <td>7.0</td>\n",
       "      <td>7.0</td>\n",
       "      <td>5.0</td>\n",
       "      <td>0.0</td>\n",
       "      <td>0.0</td>\n",
       "      <td>95426.0</td>\n",
       "      <td>0.75</td>\n",
       "    </tr>\n",
       "    <tr>\n",
       "      <th>4</th>\n",
       "      <td>Bahamas</td>\n",
       "      <td>182.0</td>\n",
       "      <td>26.0</td>\n",
       "      <td>24.0</td>\n",
       "      <td>16.0</td>\n",
       "      <td>6.0</td>\n",
       "      <td>4.0</td>\n",
       "      <td>381755.0</td>\n",
       "      <td>0.99</td>\n",
       "    </tr>\n",
       "    <tr>\n",
       "      <th>...</th>\n",
       "      <td>...</td>\n",
       "      <td>...</td>\n",
       "      <td>...</td>\n",
       "      <td>...</td>\n",
       "      <td>...</td>\n",
       "      <td>...</td>\n",
       "      <td>...</td>\n",
       "      <td>...</td>\n",
       "      <td>...</td>\n",
       "    </tr>\n",
       "    <tr>\n",
       "      <th>166</th>\n",
       "      <td>Turkménistan</td>\n",
       "      <td>15.0</td>\n",
       "      <td>27.0</td>\n",
       "      <td>9.0</td>\n",
       "      <td>26.0</td>\n",
       "      <td>20.0</td>\n",
       "      <td>2.0</td>\n",
       "      <td>5757667.0</td>\n",
       "      <td>-0.13</td>\n",
       "    </tr>\n",
       "    <tr>\n",
       "      <th>167</th>\n",
       "      <td>Turquie</td>\n",
       "      <td>71.0</td>\n",
       "      <td>1674.0</td>\n",
       "      <td>3.0</td>\n",
       "      <td>1674.0</td>\n",
       "      <td>2192.0</td>\n",
       "      <td>92.0</td>\n",
       "      <td>81116450.0</td>\n",
       "      <td>-1.79</td>\n",
       "    </tr>\n",
       "    <tr>\n",
       "      <th>168</th>\n",
       "      <td>Ukraine</td>\n",
       "      <td>78.0</td>\n",
       "      <td>1009.0</td>\n",
       "      <td>121.0</td>\n",
       "      <td>1006.0</td>\n",
       "      <td>1211.0</td>\n",
       "      <td>49.0</td>\n",
       "      <td>44487709.0</td>\n",
       "      <td>-1.87</td>\n",
       "    </tr>\n",
       "    <tr>\n",
       "      <th>169</th>\n",
       "      <td>Uruguay</td>\n",
       "      <td>33.0</td>\n",
       "      <td>33.0</td>\n",
       "      <td>3.0</td>\n",
       "      <td>31.0</td>\n",
       "      <td>33.0</td>\n",
       "      <td>0.0</td>\n",
       "      <td>3436641.0</td>\n",
       "      <td>1.05</td>\n",
       "    </tr>\n",
       "    <tr>\n",
       "      <th>170</th>\n",
       "      <td>Yémen</td>\n",
       "      <td>30.0</td>\n",
       "      <td>246.0</td>\n",
       "      <td>78.0</td>\n",
       "      <td>237.0</td>\n",
       "      <td>168.0</td>\n",
       "      <td>-0.0</td>\n",
       "      <td>27834819.0</td>\n",
       "      <td>-2.94</td>\n",
       "    </tr>\n",
       "  </tbody>\n",
       "</table>\n",
       "<p>171 rows × 9 columns</p>\n",
       "</div>"
      ],
      "text/plain": [
       "                   Zone  Disponibilité alimentaire (Kcal/personne/jour)  \\\n",
       "0        Afrique du Sud                                           143.0   \n",
       "1               Algérie                                            22.0   \n",
       "2                Angola                                            35.0   \n",
       "3    Antigua-et-Barbuda                                           233.0   \n",
       "4               Bahamas                                           182.0   \n",
       "..                  ...                                             ...   \n",
       "166        Turkménistan                                            15.0   \n",
       "167             Turquie                                            71.0   \n",
       "168             Ukraine                                            78.0   \n",
       "169             Uruguay                                            33.0   \n",
       "170               Yémen                                            30.0   \n",
       "\n",
       "     Disponibilité intérieure  Importations - Quantité  Nourriture  \\\n",
       "0                      2118.0                    514.0      2035.0   \n",
       "1                       277.0                      2.0       264.0   \n",
       "2                       319.0                    277.0       315.0   \n",
       "3                         7.0                      7.0         5.0   \n",
       "4                        26.0                     24.0        16.0   \n",
       "..                        ...                      ...         ...   \n",
       "166                      27.0                      9.0        26.0   \n",
       "167                    1674.0                      3.0      1674.0   \n",
       "168                    1009.0                    121.0      1006.0   \n",
       "169                      33.0                      3.0        31.0   \n",
       "170                     246.0                     78.0       237.0   \n",
       "\n",
       "     Production  Variation de stock  Population  stabilite pol  \n",
       "0        1667.0                -0.0  57009756.0          -0.28  \n",
       "1         275.0                 0.0  41389189.0          -0.92  \n",
       "2          42.0                -0.0  29816766.0          -0.38  \n",
       "3           0.0                 0.0     95426.0           0.75  \n",
       "4           6.0                 4.0    381755.0           0.99  \n",
       "..          ...                 ...         ...            ...  \n",
       "166        20.0                 2.0   5757667.0          -0.13  \n",
       "167      2192.0                92.0  81116450.0          -1.79  \n",
       "168      1211.0                49.0  44487709.0          -1.87  \n",
       "169        33.0                 0.0   3436641.0           1.05  \n",
       "170       168.0                -0.0  27834819.0          -2.94  \n",
       "\n",
       "[171 rows x 9 columns]"
      ]
     },
     "execution_count": 420,
     "metadata": {},
     "output_type": "execute_result"
    }
   ],
   "source": [
    "df_inner"
   ]
  },
  {
   "cell_type": "code",
   "execution_count": 421,
   "metadata": {},
   "outputs": [],
   "source": [
    "# df_inner.set_index('Zone',inplace=True)"
   ]
  },
  {
   "cell_type": "code",
   "execution_count": 422,
   "metadata": {},
   "outputs": [
    {
     "data": {
      "text/html": [
       "<div>\n",
       "<style scoped>\n",
       "    .dataframe tbody tr th:only-of-type {\n",
       "        vertical-align: middle;\n",
       "    }\n",
       "\n",
       "    .dataframe tbody tr th {\n",
       "        vertical-align: top;\n",
       "    }\n",
       "\n",
       "    .dataframe thead th {\n",
       "        text-align: right;\n",
       "    }\n",
       "</style>\n",
       "<table border=\"1\" class=\"dataframe\">\n",
       "  <thead>\n",
       "    <tr style=\"text-align: right;\">\n",
       "      <th></th>\n",
       "      <th>Zone</th>\n",
       "      <th>Disponibilité alimentaire (Kcal/personne/jour)</th>\n",
       "      <th>Disponibilité intérieure</th>\n",
       "      <th>Importations - Quantité</th>\n",
       "      <th>Nourriture</th>\n",
       "      <th>Production</th>\n",
       "      <th>Variation de stock</th>\n",
       "      <th>Population</th>\n",
       "      <th>stabilite pol</th>\n",
       "    </tr>\n",
       "  </thead>\n",
       "  <tbody>\n",
       "    <tr>\n",
       "      <th>0</th>\n",
       "      <td>Afrique du Sud</td>\n",
       "      <td>143.0</td>\n",
       "      <td>2118.0</td>\n",
       "      <td>514.0</td>\n",
       "      <td>2035.0</td>\n",
       "      <td>1667.0</td>\n",
       "      <td>-0.0</td>\n",
       "      <td>57009756.0</td>\n",
       "      <td>-0.28</td>\n",
       "    </tr>\n",
       "    <tr>\n",
       "      <th>1</th>\n",
       "      <td>Algérie</td>\n",
       "      <td>22.0</td>\n",
       "      <td>277.0</td>\n",
       "      <td>2.0</td>\n",
       "      <td>264.0</td>\n",
       "      <td>275.0</td>\n",
       "      <td>0.0</td>\n",
       "      <td>41389189.0</td>\n",
       "      <td>-0.92</td>\n",
       "    </tr>\n",
       "    <tr>\n",
       "      <th>2</th>\n",
       "      <td>Angola</td>\n",
       "      <td>35.0</td>\n",
       "      <td>319.0</td>\n",
       "      <td>277.0</td>\n",
       "      <td>315.0</td>\n",
       "      <td>42.0</td>\n",
       "      <td>-0.0</td>\n",
       "      <td>29816766.0</td>\n",
       "      <td>-0.38</td>\n",
       "    </tr>\n",
       "    <tr>\n",
       "      <th>3</th>\n",
       "      <td>Antigua-et-Barbuda</td>\n",
       "      <td>233.0</td>\n",
       "      <td>7.0</td>\n",
       "      <td>7.0</td>\n",
       "      <td>5.0</td>\n",
       "      <td>0.0</td>\n",
       "      <td>0.0</td>\n",
       "      <td>95426.0</td>\n",
       "      <td>0.75</td>\n",
       "    </tr>\n",
       "    <tr>\n",
       "      <th>4</th>\n",
       "      <td>Bahamas</td>\n",
       "      <td>182.0</td>\n",
       "      <td>26.0</td>\n",
       "      <td>24.0</td>\n",
       "      <td>16.0</td>\n",
       "      <td>6.0</td>\n",
       "      <td>4.0</td>\n",
       "      <td>381755.0</td>\n",
       "      <td>0.99</td>\n",
       "    </tr>\n",
       "  </tbody>\n",
       "</table>\n",
       "</div>"
      ],
      "text/plain": [
       "                 Zone  Disponibilité alimentaire (Kcal/personne/jour)  \\\n",
       "0      Afrique du Sud                                           143.0   \n",
       "1             Algérie                                            22.0   \n",
       "2              Angola                                            35.0   \n",
       "3  Antigua-et-Barbuda                                           233.0   \n",
       "4             Bahamas                                           182.0   \n",
       "\n",
       "   Disponibilité intérieure  Importations - Quantité  Nourriture  Production  \\\n",
       "0                    2118.0                    514.0      2035.0      1667.0   \n",
       "1                     277.0                      2.0       264.0       275.0   \n",
       "2                     319.0                    277.0       315.0        42.0   \n",
       "3                       7.0                      7.0         5.0         0.0   \n",
       "4                      26.0                     24.0        16.0         6.0   \n",
       "\n",
       "   Variation de stock  Population  stabilite pol  \n",
       "0                -0.0  57009756.0          -0.28  \n",
       "1                 0.0  41389189.0          -0.92  \n",
       "2                -0.0  29816766.0          -0.38  \n",
       "3                 0.0     95426.0           0.75  \n",
       "4                 4.0    381755.0           0.99  "
      ]
     },
     "execution_count": 422,
     "metadata": {},
     "output_type": "execute_result"
    }
   ],
   "source": [
    "df_inner.head()"
   ]
  },
  {
   "cell_type": "code",
   "execution_count": 423,
   "metadata": {},
   "outputs": [
    {
     "data": {
      "text/html": [
       "<div>\n",
       "<style scoped>\n",
       "    .dataframe tbody tr th:only-of-type {\n",
       "        vertical-align: middle;\n",
       "    }\n",
       "\n",
       "    .dataframe tbody tr th {\n",
       "        vertical-align: top;\n",
       "    }\n",
       "\n",
       "    .dataframe thead th {\n",
       "        text-align: right;\n",
       "    }\n",
       "</style>\n",
       "<table border=\"1\" class=\"dataframe\">\n",
       "  <thead>\n",
       "    <tr style=\"text-align: right;\">\n",
       "      <th></th>\n",
       "      <th>Disponibilité alimentaire (Kcal/personne/jour)</th>\n",
       "      <th>Disponibilité intérieure</th>\n",
       "      <th>Importations - Quantité</th>\n",
       "      <th>Nourriture</th>\n",
       "      <th>Production</th>\n",
       "      <th>Variation de stock</th>\n",
       "      <th>Population</th>\n",
       "      <th>stabilite pol</th>\n",
       "    </tr>\n",
       "  </thead>\n",
       "  <tbody>\n",
       "    <tr>\n",
       "      <th>count</th>\n",
       "      <td>171.00000</td>\n",
       "      <td>171.000000</td>\n",
       "      <td>171.000000</td>\n",
       "      <td>171.000000</td>\n",
       "      <td>171.000000</td>\n",
       "      <td>171.000000</td>\n",
       "      <td>1.710000e+02</td>\n",
       "      <td>171.000000</td>\n",
       "    </tr>\n",
       "    <tr>\n",
       "      <th>mean</th>\n",
       "      <td>74.45614</td>\n",
       "      <td>682.355030</td>\n",
       "      <td>87.065089</td>\n",
       "      <td>652.147929</td>\n",
       "      <td>719.053892</td>\n",
       "      <td>12.660714</td>\n",
       "      <td>4.271310e+07</td>\n",
       "      <td>-0.077771</td>\n",
       "    </tr>\n",
       "    <tr>\n",
       "      <th>std</th>\n",
       "      <td>60.73435</td>\n",
       "      <td>2179.678539</td>\n",
       "      <td>183.342275</td>\n",
       "      <td>2129.300298</td>\n",
       "      <td>2478.033531</td>\n",
       "      <td>73.779228</td>\n",
       "      <td>1.535039e+08</td>\n",
       "      <td>0.889174</td>\n",
       "    </tr>\n",
       "    <tr>\n",
       "      <th>min</th>\n",
       "      <td>0.00000</td>\n",
       "      <td>2.000000</td>\n",
       "      <td>0.000000</td>\n",
       "      <td>2.000000</td>\n",
       "      <td>0.000000</td>\n",
       "      <td>-119.000000</td>\n",
       "      <td>5.204500e+04</td>\n",
       "      <td>-2.940000</td>\n",
       "    </tr>\n",
       "    <tr>\n",
       "      <th>25%</th>\n",
       "      <td>22.00000</td>\n",
       "      <td>31.000000</td>\n",
       "      <td>3.000000</td>\n",
       "      <td>29.000000</td>\n",
       "      <td>14.500000</td>\n",
       "      <td>0.000000</td>\n",
       "      <td>2.864792e+06</td>\n",
       "      <td>-0.625000</td>\n",
       "    </tr>\n",
       "    <tr>\n",
       "      <th>50%</th>\n",
       "      <td>63.00000</td>\n",
       "      <td>102.000000</td>\n",
       "      <td>16.000000</td>\n",
       "      <td>101.000000</td>\n",
       "      <td>72.000000</td>\n",
       "      <td>0.000000</td>\n",
       "      <td>9.729823e+06</td>\n",
       "      <td>-0.050000</td>\n",
       "    </tr>\n",
       "    <tr>\n",
       "      <th>75%</th>\n",
       "      <td>106.00000</td>\n",
       "      <td>373.500000</td>\n",
       "      <td>83.000000</td>\n",
       "      <td>376.000000</td>\n",
       "      <td>478.000000</td>\n",
       "      <td>8.000000</td>\n",
       "      <td>2.960962e+07</td>\n",
       "      <td>0.625000</td>\n",
       "    </tr>\n",
       "    <tr>\n",
       "      <th>max</th>\n",
       "      <td>243.00000</td>\n",
       "      <td>18266.000000</td>\n",
       "      <td>1069.000000</td>\n",
       "      <td>18100.000000</td>\n",
       "      <td>21914.000000</td>\n",
       "      <td>859.000000</td>\n",
       "      <td>1.421022e+09</td>\n",
       "      <td>1.600000</td>\n",
       "    </tr>\n",
       "  </tbody>\n",
       "</table>\n",
       "</div>"
      ],
      "text/plain": [
       "       Disponibilité alimentaire (Kcal/personne/jour)  \\\n",
       "count                                       171.00000   \n",
       "mean                                         74.45614   \n",
       "std                                          60.73435   \n",
       "min                                           0.00000   \n",
       "25%                                          22.00000   \n",
       "50%                                          63.00000   \n",
       "75%                                         106.00000   \n",
       "max                                         243.00000   \n",
       "\n",
       "       Disponibilité intérieure  Importations - Quantité    Nourriture  \\\n",
       "count                171.000000               171.000000    171.000000   \n",
       "mean                 682.355030                87.065089    652.147929   \n",
       "std                 2179.678539               183.342275   2129.300298   \n",
       "min                    2.000000                 0.000000      2.000000   \n",
       "25%                   31.000000                 3.000000     29.000000   \n",
       "50%                  102.000000                16.000000    101.000000   \n",
       "75%                  373.500000                83.000000    376.000000   \n",
       "max                18266.000000              1069.000000  18100.000000   \n",
       "\n",
       "         Production  Variation de stock    Population  stabilite pol  \n",
       "count    171.000000          171.000000  1.710000e+02     171.000000  \n",
       "mean     719.053892           12.660714  4.271310e+07      -0.077771  \n",
       "std     2478.033531           73.779228  1.535039e+08       0.889174  \n",
       "min        0.000000         -119.000000  5.204500e+04      -2.940000  \n",
       "25%       14.500000            0.000000  2.864792e+06      -0.625000  \n",
       "50%       72.000000            0.000000  9.729823e+06      -0.050000  \n",
       "75%      478.000000            8.000000  2.960962e+07       0.625000  \n",
       "max    21914.000000          859.000000  1.421022e+09       1.600000  "
      ]
     },
     "execution_count": 423,
     "metadata": {},
     "output_type": "execute_result"
    }
   ],
   "source": [
    "df_inner.describe()"
   ]
  },
  {
   "cell_type": "code",
   "execution_count": 424,
   "metadata": {},
   "outputs": [],
   "source": [
    "df_inner.to_excel(\"traitementdonnee.xlsx\")"
   ]
  },
  {
   "cell_type": "markdown",
   "metadata": {},
   "source": [
    "#"
   ]
  },
  {
   "cell_type": "code",
   "execution_count": 442,
   "metadata": {},
   "outputs": [
    {
     "data": {
      "text/html": [
       "<div>\n",
       "<style scoped>\n",
       "    .dataframe tbody tr th:only-of-type {\n",
       "        vertical-align: middle;\n",
       "    }\n",
       "\n",
       "    .dataframe tbody tr th {\n",
       "        vertical-align: top;\n",
       "    }\n",
       "\n",
       "    .dataframe thead th {\n",
       "        text-align: right;\n",
       "    }\n",
       "</style>\n",
       "<table border=\"1\" class=\"dataframe\">\n",
       "  <thead>\n",
       "    <tr style=\"text-align: right;\">\n",
       "      <th></th>\n",
       "      <th>Zone</th>\n",
       "      <th>Disponibilité alimentaire (Kcal/personne/jour)</th>\n",
       "      <th>Disponibilité intérieure</th>\n",
       "      <th>Importations - Quantité</th>\n",
       "      <th>Nourriture</th>\n",
       "      <th>Production</th>\n",
       "      <th>Variation de stock</th>\n",
       "      <th>Population</th>\n",
       "      <th>stabilite pol</th>\n",
       "    </tr>\n",
       "  </thead>\n",
       "  <tbody>\n",
       "    <tr>\n",
       "      <th>0</th>\n",
       "      <td>Afrique du Sud</td>\n",
       "      <td>143.0</td>\n",
       "      <td>2118.0</td>\n",
       "      <td>514.0</td>\n",
       "      <td>2035.0</td>\n",
       "      <td>1667.0</td>\n",
       "      <td>-0.0</td>\n",
       "      <td>57009756.0</td>\n",
       "      <td>-0.28</td>\n",
       "    </tr>\n",
       "    <tr>\n",
       "      <th>1</th>\n",
       "      <td>Algérie</td>\n",
       "      <td>22.0</td>\n",
       "      <td>277.0</td>\n",
       "      <td>2.0</td>\n",
       "      <td>264.0</td>\n",
       "      <td>275.0</td>\n",
       "      <td>0.0</td>\n",
       "      <td>41389189.0</td>\n",
       "      <td>-0.92</td>\n",
       "    </tr>\n",
       "    <tr>\n",
       "      <th>2</th>\n",
       "      <td>Angola</td>\n",
       "      <td>35.0</td>\n",
       "      <td>319.0</td>\n",
       "      <td>277.0</td>\n",
       "      <td>315.0</td>\n",
       "      <td>42.0</td>\n",
       "      <td>-0.0</td>\n",
       "      <td>29816766.0</td>\n",
       "      <td>-0.38</td>\n",
       "    </tr>\n",
       "    <tr>\n",
       "      <th>3</th>\n",
       "      <td>Antigua-et-Barbuda</td>\n",
       "      <td>233.0</td>\n",
       "      <td>7.0</td>\n",
       "      <td>7.0</td>\n",
       "      <td>5.0</td>\n",
       "      <td>0.0</td>\n",
       "      <td>0.0</td>\n",
       "      <td>95426.0</td>\n",
       "      <td>0.75</td>\n",
       "    </tr>\n",
       "    <tr>\n",
       "      <th>4</th>\n",
       "      <td>Bahamas</td>\n",
       "      <td>182.0</td>\n",
       "      <td>26.0</td>\n",
       "      <td>24.0</td>\n",
       "      <td>16.0</td>\n",
       "      <td>6.0</td>\n",
       "      <td>4.0</td>\n",
       "      <td>381755.0</td>\n",
       "      <td>0.99</td>\n",
       "    </tr>\n",
       "    <tr>\n",
       "      <th>...</th>\n",
       "      <td>...</td>\n",
       "      <td>...</td>\n",
       "      <td>...</td>\n",
       "      <td>...</td>\n",
       "      <td>...</td>\n",
       "      <td>...</td>\n",
       "      <td>...</td>\n",
       "      <td>...</td>\n",
       "      <td>...</td>\n",
       "    </tr>\n",
       "    <tr>\n",
       "      <th>166</th>\n",
       "      <td>Turkménistan</td>\n",
       "      <td>15.0</td>\n",
       "      <td>27.0</td>\n",
       "      <td>9.0</td>\n",
       "      <td>26.0</td>\n",
       "      <td>20.0</td>\n",
       "      <td>2.0</td>\n",
       "      <td>5757667.0</td>\n",
       "      <td>-0.13</td>\n",
       "    </tr>\n",
       "    <tr>\n",
       "      <th>167</th>\n",
       "      <td>Turquie</td>\n",
       "      <td>71.0</td>\n",
       "      <td>1674.0</td>\n",
       "      <td>3.0</td>\n",
       "      <td>1674.0</td>\n",
       "      <td>2192.0</td>\n",
       "      <td>92.0</td>\n",
       "      <td>81116450.0</td>\n",
       "      <td>-1.79</td>\n",
       "    </tr>\n",
       "    <tr>\n",
       "      <th>168</th>\n",
       "      <td>Ukraine</td>\n",
       "      <td>78.0</td>\n",
       "      <td>1009.0</td>\n",
       "      <td>121.0</td>\n",
       "      <td>1006.0</td>\n",
       "      <td>1211.0</td>\n",
       "      <td>49.0</td>\n",
       "      <td>44487709.0</td>\n",
       "      <td>-1.87</td>\n",
       "    </tr>\n",
       "    <tr>\n",
       "      <th>169</th>\n",
       "      <td>Uruguay</td>\n",
       "      <td>33.0</td>\n",
       "      <td>33.0</td>\n",
       "      <td>3.0</td>\n",
       "      <td>31.0</td>\n",
       "      <td>33.0</td>\n",
       "      <td>0.0</td>\n",
       "      <td>3436641.0</td>\n",
       "      <td>1.05</td>\n",
       "    </tr>\n",
       "    <tr>\n",
       "      <th>170</th>\n",
       "      <td>Yémen</td>\n",
       "      <td>30.0</td>\n",
       "      <td>246.0</td>\n",
       "      <td>78.0</td>\n",
       "      <td>237.0</td>\n",
       "      <td>168.0</td>\n",
       "      <td>-0.0</td>\n",
       "      <td>27834819.0</td>\n",
       "      <td>-2.94</td>\n",
       "    </tr>\n",
       "  </tbody>\n",
       "</table>\n",
       "<p>171 rows × 9 columns</p>\n",
       "</div>"
      ],
      "text/plain": [
       "                   Zone  Disponibilité alimentaire (Kcal/personne/jour)  \\\n",
       "0        Afrique du Sud                                           143.0   \n",
       "1               Algérie                                            22.0   \n",
       "2                Angola                                            35.0   \n",
       "3    Antigua-et-Barbuda                                           233.0   \n",
       "4               Bahamas                                           182.0   \n",
       "..                  ...                                             ...   \n",
       "166        Turkménistan                                            15.0   \n",
       "167             Turquie                                            71.0   \n",
       "168             Ukraine                                            78.0   \n",
       "169             Uruguay                                            33.0   \n",
       "170               Yémen                                            30.0   \n",
       "\n",
       "     Disponibilité intérieure  Importations - Quantité  Nourriture  \\\n",
       "0                      2118.0                    514.0      2035.0   \n",
       "1                       277.0                      2.0       264.0   \n",
       "2                       319.0                    277.0       315.0   \n",
       "3                         7.0                      7.0         5.0   \n",
       "4                        26.0                     24.0        16.0   \n",
       "..                        ...                      ...         ...   \n",
       "166                      27.0                      9.0        26.0   \n",
       "167                    1674.0                      3.0      1674.0   \n",
       "168                    1009.0                    121.0      1006.0   \n",
       "169                      33.0                      3.0        31.0   \n",
       "170                     246.0                     78.0       237.0   \n",
       "\n",
       "     Production  Variation de stock  Population  stabilite pol  \n",
       "0        1667.0                -0.0  57009756.0          -0.28  \n",
       "1         275.0                 0.0  41389189.0          -0.92  \n",
       "2          42.0                -0.0  29816766.0          -0.38  \n",
       "3           0.0                 0.0     95426.0           0.75  \n",
       "4           6.0                 4.0    381755.0           0.99  \n",
       "..          ...                 ...         ...            ...  \n",
       "166        20.0                 2.0   5757667.0          -0.13  \n",
       "167      2192.0                92.0  81116450.0          -1.79  \n",
       "168      1211.0                49.0  44487709.0          -1.87  \n",
       "169        33.0                 0.0   3436641.0           1.05  \n",
       "170       168.0                -0.0  27834819.0          -2.94  \n",
       "\n",
       "[171 rows x 9 columns]"
      ]
     },
     "execution_count": 442,
     "metadata": {},
     "output_type": "execute_result"
    }
   ],
   "source": [
    "df_inner"
   ]
  },
  {
   "cell_type": "markdown",
   "metadata": {},
   "source": [
    "#"
   ]
  },
  {
   "cell_type": "markdown",
   "metadata": {},
   "source": [
    "#"
   ]
  },
  {
   "cell_type": "markdown",
   "metadata": {},
   "source": [
    "#"
   ]
  }
 ],
 "metadata": {
  "kernelspec": {
   "display_name": "Python 3",
   "language": "python",
   "name": "python3"
  },
  "language_info": {
   "codemirror_mode": {
    "name": "ipython",
    "version": 3
   },
   "file_extension": ".py",
   "mimetype": "text/x-python",
   "name": "python",
   "nbconvert_exporter": "python",
   "pygments_lexer": "ipython3",
   "version": "3.10.7"
  },
  "orig_nbformat": 4
 },
 "nbformat": 4,
 "nbformat_minor": 2
}
